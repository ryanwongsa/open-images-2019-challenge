{
 "cells": [
  {
   "cell_type": "code",
   "execution_count": 1,
   "metadata": {},
   "outputs": [],
   "source": [
    "%load_ext autoreload\n",
    "%autoreload 2\n",
    "%matplotlib inline"
   ]
  },
  {
   "cell_type": "code",
   "execution_count": 2,
   "metadata": {},
   "outputs": [],
   "source": [
    "import pandas as pd\n",
    "import pickle\n",
    "from tqdm import tqdm_notebook as tqdm\n",
    "from collections import defaultdict\n",
    "import os\n",
    "import json"
   ]
  },
  {
   "cell_type": "code",
   "execution_count": 3,
   "metadata": {},
   "outputs": [],
   "source": [
    "def make_save_dir(save_dir):\n",
    "    if save_dir != None:\n",
    "        if not os.path.exists(save_dir):\n",
    "            os.makedirs(save_dir)\n",
    "            \n",
    "def make_subset(annotations, cls_div_ids):\n",
    "    dict_annos = defaultdict(list)\n",
    "    for id, anno_details in tqdm(annotations.items()):\n",
    "        subset_annos = []\n",
    "        for anno in anno_details:\n",
    "            if anno[\"LabelName\"] in cls_div_ids:\n",
    "                subset_annos.append(anno)\n",
    "        if len(subset_annos)>0:\n",
    "            dict_annos[id] = subset_annos\n",
    "\n",
    "    idx_to_ids = {i:key for i, (key, _) in enumerate(dict_annos.items())}\n",
    "    return dict_annos, idx_to_ids\n",
    "\n",
    "def make_img_id_subset(annotations, cls_div_ids, valid_img_ids):\n",
    "    dict_annos = defaultdict(list)\n",
    "    \n",
    "    for id in valid_img_ids:\n",
    "        try:\n",
    "            anno_details = annotations[id]\n",
    "        except:\n",
    "            print(id)\n",
    "        subset_annos = []\n",
    "        for anno in anno_details:\n",
    "            if anno[\"LabelName\"] in cls_div_ids:\n",
    "                subset_annos.append(anno)\n",
    "        if len(subset_annos)>0:\n",
    "            dict_annos[id] = subset_annos\n",
    "\n",
    "    idx_to_ids = {i:key for i, (key, _) in enumerate(dict_annos.items())}\n",
    "    return dict_annos, idx_to_ids"
   ]
  },
  {
   "cell_type": "code",
   "execution_count": 4,
   "metadata": {},
   "outputs": [],
   "source": [
    "human_labels_dir = \"../dataset/class-ids-human-body-parts-and-mammal.txt\"\n",
    "img_ids_dir = \"../dataset/train-image-ids-with-human-parts-and-mammal-boxes.txt\"\n",
    "\n",
    "train_bbox_dir = \"../data_info/train/annotations/train-anno.json\"\n",
    "valid_bbox_dir = \"../data_info/valid/annotations/valid-anno.json\"\n",
    "clsids_to_names_dir = \"../data_info/clsids_to_names.pkl\"\n",
    "save_dir = \"../data_info_subsets/\""
   ]
  },
  {
   "cell_type": "code",
   "execution_count": 6,
   "metadata": {},
   "outputs": [],
   "source": [
    "cls_to_names = pickle.load(open(clsids_to_names_dir,'rb'))\n",
    "human_labels_list = list(pd.read_csv(human_labels_dir, header=None)[0])\n",
    "human_img_ids_list = list(pd.read_csv(img_ids_dir, header=None)[0])"
   ]
  },
  {
   "cell_type": "code",
   "execution_count": 7,
   "metadata": {},
   "outputs": [
    {
     "name": "stdout",
     "output_type": "stream",
     "text": [
      "Human eye\n",
      "Human beard\n",
      "Human mouth\n",
      "/m/02p0tk3\n",
      "Human foot\n",
      "Human leg\n",
      "Human ear\n",
      "Human hair\n",
      "Human head\n",
      "/m/04rky\n",
      "Human arm\n",
      "Human nose\n",
      "Human hand\n"
     ]
    }
   ],
   "source": [
    "important_human_label_list = []\n",
    "for hl in human_labels_list:\n",
    "    try:\n",
    "        print(cls_to_names[hl])\n",
    "        important_human_label_list.append(hl)\n",
    "    except:\n",
    "        print(hl)"
   ]
  },
  {
   "cell_type": "code",
   "execution_count": 8,
   "metadata": {},
   "outputs": [],
   "source": [
    "train_annotations = json.loads(open(train_bbox_dir,'r').read())\n",
    "valid_annotations = json.loads(open(valid_bbox_dir,'r').read())"
   ]
  },
  {
   "cell_type": "markdown",
   "metadata": {},
   "source": [
    "## Creating Validation Set for Human Labels"
   ]
  },
  {
   "cell_type": "code",
   "execution_count": 9,
   "metadata": {},
   "outputs": [
    {
     "data": {
      "application/vnd.jupyter.widget-view+json": {
       "model_id": "72cee535db3a43dcb1569acc07ac9d7f",
       "version_major": 2,
       "version_minor": 0
      },
      "text/plain": [
       "HBox(children=(IntProgress(value=0, max=34917), HTML(value='')))"
      ]
     },
     "metadata": {},
     "output_type": "display_data"
    },
    {
     "name": "stdout",
     "output_type": "stream",
     "text": [
      "\n"
     ]
    }
   ],
   "source": [
    "dict_valid_annos, valid_idx_to_ids = make_subset(valid_annotations, important_human_label_list)"
   ]
  },
  {
   "cell_type": "code",
   "execution_count": 10,
   "metadata": {},
   "outputs": [
    {
     "data": {
      "text/plain": [
       "(7449, 7449)"
      ]
     },
     "execution_count": 10,
     "metadata": {},
     "output_type": "execute_result"
    }
   ],
   "source": [
    "len(dict_valid_annos), len(valid_idx_to_ids)"
   ]
  },
  {
   "cell_type": "code",
   "execution_count": 11,
   "metadata": {},
   "outputs": [],
   "source": [
    "human_valid_save_dir = save_dir+\"humanparts/\"+\"valid/annotations\"\n",
    "make_save_dir(human_valid_save_dir)\n",
    "with open(human_valid_save_dir+\"/valid-anno.json\", 'w') as fp:\n",
    "    json.dump(dict(dict_valid_annos), fp)\n",
    "    \n",
    "with open(human_valid_save_dir+\"/valid-idx_to_id.pkl\", 'wb') as handle:\n",
    "    pickle.dump(valid_idx_to_ids, handle, protocol=pickle.HIGHEST_PROTOCOL)"
   ]
  },
  {
   "cell_type": "markdown",
   "metadata": {},
   "source": [
    "## Creating Training Set for Human Labels"
   ]
  },
  {
   "cell_type": "code",
   "execution_count": 12,
   "metadata": {},
   "outputs": [
    {
     "data": {
      "application/vnd.jupyter.widget-view+json": {
       "model_id": "3f16459f431743e6ac912e972f81a567",
       "version_major": 2,
       "version_minor": 0
      },
      "text/plain": [
       "HBox(children=(IntProgress(value=0, max=1674979), HTML(value='')))"
      ]
     },
     "metadata": {},
     "output_type": "display_data"
    },
    {
     "name": "stdout",
     "output_type": "stream",
     "text": [
      "\n"
     ]
    }
   ],
   "source": [
    "dict_train_annos, train_idx_to_ids = make_subset(train_annotations, important_human_label_list)"
   ]
  },
  {
   "cell_type": "code",
   "execution_count": 13,
   "metadata": {},
   "outputs": [
    {
     "data": {
      "text/plain": [
       "(84425, 84425)"
      ]
     },
     "execution_count": 13,
     "metadata": {},
     "output_type": "execute_result"
    }
   ],
   "source": [
    "len(dict_train_annos), len(train_idx_to_ids)"
   ]
  },
  {
   "cell_type": "code",
   "execution_count": 14,
   "metadata": {},
   "outputs": [],
   "source": [
    "human_train_save_dir = save_dir+\"humanparts/\"+\"train/annotations\"\n",
    "make_save_dir(human_train_save_dir)\n",
    "with open(human_train_save_dir+\"/train-anno.json\", 'w') as fp:\n",
    "    json.dump(dict(dict_train_annos), fp)\n",
    "    \n",
    "with open(human_train_save_dir+\"/train-idx_to_id.pkl\", 'wb') as handle:\n",
    "        pickle.dump(train_idx_to_ids, handle, protocol=pickle.HIGHEST_PROTOCOL)"
   ]
  },
  {
   "cell_type": "markdown",
   "metadata": {},
   "source": [
    "## Save Class Info for Human Labels"
   ]
  },
  {
   "cell_type": "code",
   "execution_count": 15,
   "metadata": {},
   "outputs": [],
   "source": [
    "human_cls_to_names = {lb:cls_to_names[lb] for lb in important_human_label_list}\n",
    "human_clsids_to_idx = {lb:i+1 for i, lb in enumerate(important_human_label_list)}\n",
    "human_clsids_to_idx[\"background\"] = 0\n",
    "human_cls_to_names[\"background\"] = \"background\""
   ]
  },
  {
   "cell_type": "code",
   "execution_count": 16,
   "metadata": {},
   "outputs": [
    {
     "data": {
      "text/plain": [
       "{'/m/014sv8': 'Human eye',\n",
       " '/m/015h_t': 'Human beard',\n",
       " '/m/0283dt1': 'Human mouth',\n",
       " '/m/031n1': 'Human foot',\n",
       " '/m/035r7c': 'Human leg',\n",
       " '/m/039xj_': 'Human ear',\n",
       " '/m/03q69': 'Human hair',\n",
       " '/m/04hgtk': 'Human head',\n",
       " '/m/0dzf4': 'Human arm',\n",
       " '/m/0k0pj': 'Human nose',\n",
       " '/m/0k65p': 'Human hand',\n",
       " 'background': 'background'}"
      ]
     },
     "execution_count": 16,
     "metadata": {},
     "output_type": "execute_result"
    }
   ],
   "source": [
    "human_cls_to_names"
   ]
  },
  {
   "cell_type": "code",
   "execution_count": 17,
   "metadata": {},
   "outputs": [
    {
     "data": {
      "text/plain": [
       "{'/m/014sv8': 1,\n",
       " '/m/015h_t': 2,\n",
       " '/m/0283dt1': 3,\n",
       " '/m/031n1': 4,\n",
       " '/m/035r7c': 5,\n",
       " '/m/039xj_': 6,\n",
       " '/m/03q69': 7,\n",
       " '/m/04hgtk': 8,\n",
       " '/m/0dzf4': 9,\n",
       " '/m/0k0pj': 10,\n",
       " '/m/0k65p': 11,\n",
       " 'background': 0}"
      ]
     },
     "execution_count": 17,
     "metadata": {},
     "output_type": "execute_result"
    }
   ],
   "source": [
    "human_clsids_to_idx"
   ]
  },
  {
   "cell_type": "code",
   "execution_count": 18,
   "metadata": {},
   "outputs": [],
   "source": [
    "human_class_save_dir = save_dir+\"humanparts\"\n",
    "with open(human_class_save_dir+\"/clsids_to_names.pkl\", 'wb') as handle:\n",
    "        pickle.dump(human_cls_to_names, handle, protocol=pickle.HIGHEST_PROTOCOL)\n",
    "        \n",
    "with open(human_class_save_dir+\"/clsids_to_idx.pkl\", 'wb') as handle:\n",
    "        pickle.dump(human_clsids_to_idx, handle, protocol=pickle.HIGHEST_PROTOCOL)"
   ]
  },
  {
   "cell_type": "code",
   "execution_count": null,
   "metadata": {},
   "outputs": [],
   "source": []
  }
 ],
 "metadata": {
  "kernelspec": {
   "display_name": "Python 3",
   "language": "python",
   "name": "python3"
  },
  "language_info": {
   "codemirror_mode": {
    "name": "ipython",
    "version": 3
   },
   "file_extension": ".py",
   "mimetype": "text/x-python",
   "name": "python",
   "nbconvert_exporter": "python",
   "pygments_lexer": "ipython3",
   "version": "3.7.3"
  }
 },
 "nbformat": 4,
 "nbformat_minor": 2
}
