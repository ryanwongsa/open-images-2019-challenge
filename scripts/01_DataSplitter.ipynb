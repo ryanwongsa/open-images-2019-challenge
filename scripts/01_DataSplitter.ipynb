{
 "cells": [
  {
   "cell_type": "code",
   "execution_count": null,
   "metadata": {},
   "outputs": [],
   "source": [
    "import pandas as pd\n",
    "import pickle\n",
    "from tqdm import tqdm_notebook as tqdm\n",
    "from collections import defaultdict\n",
    "import os\n",
    "import json\n",
    "import copy"
   ]
  },
  {
   "cell_type": "code",
   "execution_count": null,
   "metadata": {},
   "outputs": [],
   "source": [
    "def make_save_dir(save_dir):\n",
    "    if save_dir != None:\n",
    "        if not os.path.exists(save_dir):\n",
    "            os.makedirs(save_dir)\n",
    "            \n",
    "def make_subset(annotations, cls_div_ids, dict_class_with_subset=None):\n",
    "    dict_annos = defaultdict(list)\n",
    "    bkgrd_div = []\n",
    "    if dict_class_with_subset != None:\n",
    "        bkgrd_div = get_div_background_list(dict_class_with_subset,cls_div_ids)\n",
    "#     print(bkgrd_div)\n",
    "    for id, anno_details in tqdm(annotations.items()):\n",
    "        subset_annos = []\n",
    "        hasBackground = False\n",
    "        hasLabels = False\n",
    "        for anno in anno_details:\n",
    "#             print(anno[\"LabelName\"])\n",
    "            if anno[\"LabelName\"] in cls_div_ids:\n",
    "                subset_annos.append(anno)\n",
    "                hasLabels = True\n",
    "            \n",
    "            if anno[\"LabelName\"] in bkgrd_div:\n",
    "#                 print(\"hasBackground\")\n",
    "                hasBackground = True\n",
    "                \n",
    "        # TODO: REMOVE IF BACKGROUND LABELS NEEDS TO BE REMOVED\n",
    "        if hasLabels==False and hasBackground:\n",
    "            for anno in anno_details:\n",
    "                if anno[\"LabelName\"] in bkgrd_div:\n",
    "                    temp = copy.deepcopy(anno) #.copy()\n",
    "                    temp[\"LabelName\"]=\"background\"\n",
    "                    subset_annos.append(temp)\n",
    "                    \n",
    "#         if len(subset_annos)>0 or hasBackground:\n",
    "        if len(subset_annos)>0:\n",
    "            dict_annos[id] = subset_annos\n",
    "\n",
    "    idx_to_ids = {i:key for i, (key, _) in enumerate(dict_annos.items())}\n",
    "    return dict_annos, idx_to_ids\n",
    "\n",
    "def make_img_id_subset(annotations, cls_div_ids, valid_img_ids):\n",
    "    dict_annos = defaultdict(list)\n",
    "    \n",
    "    for id in valid_img_ids:\n",
    "        try:\n",
    "            anno_details = annotations[id]\n",
    "        except:\n",
    "            print(id)\n",
    "        subset_annos = []\n",
    "        for anno in anno_details:\n",
    "            if anno[\"LabelName\"] in cls_div_ids:\n",
    "                subset_annos.append(anno)\n",
    "        if len(subset_annos)>0:\n",
    "            dict_annos[id] = subset_annos\n",
    "\n",
    "    idx_to_ids = {i:key for i, (key, _) in enumerate(dict_annos.items())}\n",
    "    return dict_annos, idx_to_ids\n",
    "\n",
    "def get_class_levels(hier):\n",
    "    level1=[]\n",
    "    level2=[]\n",
    "    level3=[]\n",
    "    level4=[]\n",
    "    level5=[]\n",
    "\n",
    "    for l2 in hier['Subcategory']:\n",
    "        level5.append(l2['LabelName'])\n",
    "        try:\n",
    "            for j in l2['Subcategory']:\n",
    "                level4.append(j['LabelName'])\n",
    "                try:\n",
    "                    for k in j['Subcategory']:\n",
    "                        level3.append(k['LabelName'])\n",
    "                        try:\n",
    "                            for a in k['Subcategory']:\n",
    "                                level2.append(a['LabelName'])\n",
    "                                try:\n",
    "                                    for b in a['Subcategory']:\n",
    "                                        level1.append(b['LabelName'])\n",
    "                                except:\n",
    "                                    pass\n",
    "                        except:\n",
    "                            pass\n",
    "                except:\n",
    "                    pass\n",
    "        except:\n",
    "            pass\n",
    "    level1 = list(set(level1))\n",
    "    level2 = list(set(level2))\n",
    "    level3 = list(set(level3))\n",
    "    level4 = list(set(level4))       \n",
    "    level5 = list(set(level5))   \n",
    "    return [level1,level2,level3,level4,level5]\n",
    "\n",
    "def get_required_human_list(human_labels_list, cls_to_names):\n",
    "    important_human_label_list = []\n",
    "    for hl in human_labels_list:\n",
    "        if hl in cls_to_names:\n",
    "            important_human_label_list.append(hl)\n",
    "    return important_human_label_list"
   ]
  },
  {
   "cell_type": "code",
   "execution_count": null,
   "metadata": {},
   "outputs": [],
   "source": [
    "def get_subsets(d):\n",
    "    res = []\n",
    "    def myprint(d):\n",
    "        for k, v in d.items():\n",
    "            if isinstance(v, dict) and v != {}:\n",
    "                myprint(v)\n",
    "            else:\n",
    "#                 print(\"{0} : {1}\".format(k, v))\n",
    "                res.append(k)\n",
    "    myprint(d)\n",
    "    return res\n",
    "\n",
    "def get_dict_class_levels(hier):\n",
    "    dict_levels = {}\n",
    "\n",
    "    for l2 in hier['Subcategory']:\n",
    "        l2_name = l2['LabelName']\n",
    "        dict_levels[l2_name] = {}\n",
    "        try:\n",
    "            for j in l2['Subcategory']:\n",
    "                l2j_name = j['LabelName']\n",
    "                dict_levels[l2_name][l2j_name] = {}\n",
    "                try:\n",
    "                    for k in j['Subcategory']:\n",
    "                        l2k_name = k['LabelName']\n",
    "                        dict_levels[l2_name][l2j_name][l2k_name] = {}\n",
    "                        try:\n",
    "                            for a in k['Subcategory']:\n",
    "                                l2a_name = a['LabelName']\n",
    "                                dict_levels[l2_name][l2j_name][l2k_name][l2a_name] = {}\n",
    "                                try:\n",
    "                                    for b in a['Subcategory']:\n",
    "                                        l2b_name = b['LabelName']\n",
    "                                        dict_levels[l2_name][l2j_name][l2k_name][l2a_name][l2b_name] = {}\n",
    "                                except:\n",
    "                                    pass\n",
    "                        except:\n",
    "                            pass\n",
    "                except:\n",
    "                    pass\n",
    "        except:\n",
    "            pass\n",
    "    return dict_levels\n",
    "\n",
    "def get_valid_background_for_cls(dict_class_with_subset, current_cls):\n",
    "    valid_background = []\n",
    "    for key, value in dict_class_with_subset.items():\n",
    "        if current_cls not in value:\n",
    "            valid_background.append(key)\n",
    "    return valid_background\n",
    "\n",
    "def get_div_background_list(dict_class_with_subset,current_clss):\n",
    "    valid_list = []\n",
    "    for current_cls in current_clss:\n",
    "        valid_list.append(get_valid_background_for_cls(dict_class_with_subset, current_cls))\n",
    "    sets = []\n",
    "    for val in valid_list:\n",
    "        sets = list(set(sets) ^ set(val))\n",
    "    sets = [x for x in sets if x not in current_clss]\n",
    "    return sets"
   ]
  },
  {
   "cell_type": "code",
   "execution_count": null,
   "metadata": {},
   "outputs": [],
   "source": [
    "hierarchy_dir = '../dataset/challenge-2019-label500-hierarchy.json'\n",
    "clsids_to_names_dir = \"../data_info/all/clsids_to_names.json\"\n",
    "train_anno_dir = \"../data_info/all/train/annotations/train-anno.json\"\n",
    "valid_anno_dir = \"../data_info/all/valid/annotations/valid-anno.json\"\n",
    "human_labels_dir = \"../dataset/class-ids-human-body-parts-and-mammal.txt\"\n",
    "save_dir = \"../data_info/subsets\""
   ]
  },
  {
   "cell_type": "code",
   "execution_count": null,
   "metadata": {},
   "outputs": [],
   "source": [
    "clsids_to_names = json.load(open(clsids_to_names_dir,'r'))\n",
    "hier = json.load(open(hierarchy_dir,'r'))\n",
    "train_anno = json.load(open(train_anno_dir,'r'))\n",
    "valid_anno = json.load(open(valid_anno_dir,'r'))\n",
    "human_labels_list = list(pd.read_csv(human_labels_dir, header=None)[0])"
   ]
  },
  {
   "cell_type": "code",
   "execution_count": null,
   "metadata": {},
   "outputs": [],
   "source": [
    "human_labels_list = get_required_human_list(human_labels_list, clsids_to_names)\n",
    "list_of_divisions = get_class_levels(hier)"
   ]
  },
  {
   "cell_type": "code",
   "execution_count": null,
   "metadata": {},
   "outputs": [],
   "source": [
    "# remove human labels from other class divisions\n",
    "filter_list_of_dvisions = []\n",
    "for divisions in list_of_divisions:\n",
    "    temp = [x for x in divisions if x not in human_labels_list]\n",
    "    filter_list_of_dvisions.append(temp)"
   ]
  },
  {
   "cell_type": "code",
   "execution_count": null,
   "metadata": {},
   "outputs": [],
   "source": [
    "all_divisions = filter_list_of_dvisions+ [human_labels_list]"
   ]
  },
  {
   "cell_type": "code",
   "execution_count": null,
   "metadata": {
    "scrolled": true
   },
   "outputs": [],
   "source": [
    "for div in all_divisions:\n",
    "    print(len(div))"
   ]
  },
  {
   "cell_type": "code",
   "execution_count": null,
   "metadata": {},
   "outputs": [],
   "source": [
    "def create_multiple_subsets(anno, all_divisions, save_dir, typ, clsids_to_names, dict_class_with_subset=None):\n",
    "    for i, div in enumerate(all_divisions):\n",
    "        dict_annos, idx_to_ids = make_subset(anno, div,dict_class_with_subset)\n",
    "        print(i,\":\",len(dict_annos), len(idx_to_ids))\n",
    "        curr_save_dir = save_dir+\"/\"+ str(i)\n",
    "        make_save_dir(curr_save_dir+\"/annotations\")\n",
    "        with open(curr_save_dir +\"/annotations\"+\"/\"+typ+\"-anno.json\", 'w') as fp:\n",
    "            json.dump(dict(dict_annos), fp)\n",
    "\n",
    "        with open(curr_save_dir+\"/annotations\"+\"/\"+typ+\"-idx_to_id.json\", 'w') as handle:\n",
    "            json.dump(idx_to_ids, handle)\n",
    "#             pickle.dump(idx_to_ids, handle, protocol=pickle.HIGHEST_PROTOCOL)\n",
    "            \n",
    "        div_cls_to_names = {lb:clsids_to_names[lb] for lb in div}\n",
    "        div_clsids_to_idx = {lb:i+1 for i, lb in enumerate(div)}\n",
    "        div_clsids_to_idx[\"background\"] = 0\n",
    "        div_cls_to_names[\"background\"] = \"background\"\n",
    "        \n",
    "        with open(curr_save_dir+\"/clsids_to_names.json\", 'w') as handle:\n",
    "            json.dump(div_cls_to_names, handle)\n",
    "#             pickle.dump(div_cls_to_names, handle, protocol=pickle.HIGHEST_PROTOCOL)\n",
    "\n",
    "        with open(curr_save_dir+\"/clsids_to_idx.json\", 'w') as handle:\n",
    "            json.dump(div_clsids_to_idx, handle)\n",
    "#                 pickle.dump(div_clsids_to_idx, handle, protocol=pickle.HIGHEST_PROTOCOL)\n",
    "                \n",
    "        f = open(curr_save_dir+\"/classes.txt\", \"w\")\n",
    "        f.write(str(len(div_cls_to_names)))\n",
    "        f.close()"
   ]
  },
  {
   "cell_type": "code",
   "execution_count": null,
   "metadata": {},
   "outputs": [],
   "source": [
    "# create_multiple_subsets(train_anno, all_divisions, save_dir, \"train\", clsids_to_names)"
   ]
  },
  {
   "cell_type": "code",
   "execution_count": null,
   "metadata": {},
   "outputs": [],
   "source": [
    "# create_multiple_subsets(valid_anno, all_divisions, save_dir, \"valid\", clsids_to_names)"
   ]
  },
  {
   "cell_type": "markdown",
   "metadata": {},
   "source": [
    "### Creating Background instances"
   ]
  },
  {
   "cell_type": "code",
   "execution_count": null,
   "metadata": {
    "scrolled": false
   },
   "outputs": [],
   "source": [
    "dict_levels = get_dict_class_levels(hier)\n",
    "dict_class_with_subset = defaultdict(list)\n",
    "for key1, val1 in dict_levels.items():\n",
    "#     print(key1, val1)\n",
    "    dict_class_with_subset[key1] = get_subsets(val1)+[key1]\n",
    "    for key2, val2 in val1.items():\n",
    "        dict_class_with_subset[key2] = get_subsets(val2)+[key2]\n",
    "#         print(\"-\",key2, val2)\n",
    "        for key3, val3 in val2.items():\n",
    "            dict_class_with_subset[key3] = get_subsets(val3)+[key3]\n",
    "#             print(\"--\",key3, val3)\n",
    "            for key4, val4 in val3.items():\n",
    "                dict_class_with_subset[key4] = get_subsets(val4)+[key4]\n",
    "#                 print(\"---\",key4, val4)\n",
    "                for key5, val5 in val4.items():\n",
    "                    dict_class_with_subset[key5] = get_subsets(val5)+[key5]\n",
    "#                     print(\"----\",key5, val5)\n",
    "dict_class_with_subset = dict(dict_class_with_subset)"
   ]
  },
  {
   "cell_type": "code",
   "execution_count": null,
   "metadata": {},
   "outputs": [],
   "source": [
    "for hl in human_labels_list:\n",
    "    del dict_class_with_subset[hl]"
   ]
  },
  {
   "cell_type": "code",
   "execution_count": null,
   "metadata": {},
   "outputs": [],
   "source": [
    "len(dict(dict_class_with_subset))"
   ]
  },
  {
   "cell_type": "code",
   "execution_count": null,
   "metadata": {
    "scrolled": true
   },
   "outputs": [],
   "source": [
    "dict_class_with_subset"
   ]
  },
  {
   "cell_type": "code",
   "execution_count": null,
   "metadata": {},
   "outputs": [],
   "source": [
    "# current_clss = all_divisions[1]\n",
    "# # bkgrd_div = get_div_background_list(dict_class_with_subset,current_clss)\n",
    "\n",
    "# bkgrd_div = get_div_background_list(dict_class_with_subset,current_clss)\n",
    "# bkgrd_div"
   ]
  },
  {
   "cell_type": "code",
   "execution_count": null,
   "metadata": {},
   "outputs": [],
   "source": [
    "create_multiple_subsets(train_anno, all_divisions, save_dir, \"train\", clsids_to_names, dict_class_with_subset)"
   ]
  },
  {
   "cell_type": "code",
   "execution_count": null,
   "metadata": {},
   "outputs": [],
   "source": [
    "create_multiple_subsets(valid_anno, all_divisions, save_dir, \"valid\", clsids_to_names)"
   ]
  },
  {
   "cell_type": "markdown",
   "metadata": {},
   "source": [
    "## Other Scripts"
   ]
  },
  {
   "cell_type": "markdown",
   "metadata": {},
   "source": [
    "### run in console"
   ]
  },
  {
   "cell_type": "markdown",
   "metadata": {},
   "source": [
    "```cmd\n",
    "python scripts/02_data_analysis.py --anno-json-dir data_info/all/train/annotations/train-anno.json --idx-to-id-dir data_info/all/train/annotations/train-idx_to_id.json --clsids-to-idx-dir data_info/all/clsids_to_idx.json --save-dir data_info/all --clsids-to-names-dir data_info/all/clsids_to_names.json\n",
    "\n",
    "```"
   ]
  },
  {
   "cell_type": "markdown",
   "metadata": {},
   "source": [
    "```\n",
    "python scripts/02_data_analysis.py --anno-json-dir data_info/subsets/0/annotations/train-anno.json --idx-to-id-dir data_info/subsets/0/annotations/train-idx_to_id.json --clsids-to-idx-dir data_info/subsets/0/clsids_to_idx.json --save-dir data_info/subsets/0 --clsids-to-names-dir data_info/subsets/0/clsids_to_names.json\n",
    "\n",
    "python scripts/02_data_analysis.py --anno-json-dir data_info/subsets/1/annotations/train-anno.json --idx-to-id-dir data_info/subsets/1/annotations/train-idx_to_id.json --clsids-to-idx-dir data_info/subsets/1/clsids_to_idx.json --save-dir data_info/subsets/1 --clsids-to-names-dir data_info/subsets/1/clsids_to_names.json\n",
    "\n",
    "python scripts/02_data_analysis.py --anno-json-dir data_info/subsets/2/annotations/train-anno.json --idx-to-id-dir data_info/subsets/2/annotations/train-idx_to_id.json --clsids-to-idx-dir data_info/subsets/2/clsids_to_idx.json --save-dir data_info/subsets/2 --clsids-to-names-dir data_info/subsets/2/clsids_to_names.json\n",
    "\n",
    "python scripts/02_data_analysis.py --anno-json-dir data_info/subsets/3/annotations/train-anno.json --idx-to-id-dir data_info/subsets/3/annotations/train-idx_to_id.json --clsids-to-idx-dir data_info/subsets/3/clsids_to_idx.json --save-dir data_info/subsets/3 --clsids-to-names-dir data_info/subsets/3/clsids_to_names.json\n",
    "\n",
    "python scripts/02_data_analysis.py --anno-json-dir data_info/subsets/4/annotations/train-anno.json --idx-to-id-dir data_info/subsets/4/annotations/train-idx_to_id.json --clsids-to-idx-dir data_info/subsets/4/clsids_to_idx.json --save-dir data_info/subsets/4 --clsids-to-names-dir data_info/subsets/4/clsids_to_names.json\n",
    "\n",
    "python scripts/02_data_analysis.py --anno-json-dir data_info/subsets/5/annotations/train-anno.json --idx-to-id-dir data_info/subsets/5/annotations/train-idx_to_id.json --clsids-to-idx-dir data_info/subsets/5/clsids_to_idx.json --save-dir data_info/subsets/5 --clsids-to-names-dir data_info/subsets/5/clsids_to_names.json\n",
    "```"
   ]
  },
  {
   "cell_type": "code",
   "execution_count": null,
   "metadata": {},
   "outputs": [],
   "source": []
  }
 ],
 "metadata": {
  "kernelspec": {
   "display_name": "Python 3",
   "language": "python",
   "name": "python3"
  },
  "language_info": {
   "codemirror_mode": {
    "name": "ipython",
    "version": 3
   },
   "file_extension": ".py",
   "mimetype": "text/x-python",
   "name": "python",
   "nbconvert_exporter": "python",
   "pygments_lexer": "ipython3",
   "version": "3.7.3"
  }
 },
 "nbformat": 4,
 "nbformat_minor": 2
}
