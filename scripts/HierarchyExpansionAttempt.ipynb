{
 "cells": [
  {
   "cell_type": "code",
   "execution_count": 1,
   "metadata": {},
   "outputs": [
    {
     "data": {
      "text/plain": [
       "4"
      ]
     },
     "execution_count": 1,
     "metadata": {},
     "output_type": "execute_result"
    }
   ],
   "source": [
    "import pandas as pd\n",
    "import numpy as np\n",
    "from tqdm import tqdm_notebook as tqdm\n",
    "import gc\n",
    "import lightgbm as lgb\n",
    "gc.collect()"
   ]
  },
  {
   "cell_type": "code",
   "execution_count": 9,
   "metadata": {},
   "outputs": [],
   "source": [
    "sub_dir = \"../submission2.csv\""
   ]
  },
  {
   "cell_type": "code",
   "execution_count": 10,
   "metadata": {},
   "outputs": [],
   "source": [
    "df_bbox_submission = pd.read_csv(sub_dir)"
   ]
  },
  {
   "cell_type": "code",
   "execution_count": 11,
   "metadata": {},
   "outputs": [
    {
     "data": {
      "text/plain": [
       "99999"
      ]
     },
     "execution_count": 11,
     "metadata": {},
     "output_type": "execute_result"
    }
   ],
   "source": [
    "len(df_bbox_submission)"
   ]
  },
  {
   "cell_type": "code",
   "execution_count": 4,
   "metadata": {},
   "outputs": [
    {
     "data": {
      "text/html": [
       "<div>\n",
       "<style scoped>\n",
       "    .dataframe tbody tr th:only-of-type {\n",
       "        vertical-align: middle;\n",
       "    }\n",
       "\n",
       "    .dataframe tbody tr th {\n",
       "        vertical-align: top;\n",
       "    }\n",
       "\n",
       "    .dataframe thead th {\n",
       "        text-align: right;\n",
       "    }\n",
       "</style>\n",
       "<table border=\"1\" class=\"dataframe\">\n",
       "  <thead>\n",
       "    <tr style=\"text-align: right;\">\n",
       "      <th></th>\n",
       "      <th>ImageId</th>\n",
       "      <th>PredictionString</th>\n",
       "    </tr>\n",
       "  </thead>\n",
       "  <tbody>\n",
       "    <tr>\n",
       "      <th>0</th>\n",
       "      <td>00000b4dcff7f799</td>\n",
       "      <td>/m/0dzf4 0.29 0.8515 0.29339 0.92297 0.44191 /...</td>\n",
       "    </tr>\n",
       "    <tr>\n",
       "      <th>1</th>\n",
       "      <td>00001a21632de752</td>\n",
       "      <td>/m/03q69 0.62 0.56335 0.58706 0.80463 1.0 /m/0...</td>\n",
       "    </tr>\n",
       "    <tr>\n",
       "      <th>2</th>\n",
       "      <td>0000d67245642c5f</td>\n",
       "      <td>/m/031n1 0.06 0.0 0.12647 0.71125 0.90622 /m/0...</td>\n",
       "    </tr>\n",
       "    <tr>\n",
       "      <th>3</th>\n",
       "      <td>0001244aa8ed3099</td>\n",
       "      <td>/m/035r7c 0.25 0.24612 0.06044 0.79299 0.43748...</td>\n",
       "    </tr>\n",
       "    <tr>\n",
       "      <th>4</th>\n",
       "      <td>000172d1dd1adce0</td>\n",
       "      <td>/m/04hgtk 0.12 0.29667 0.35318 0.31774 0.38799...</td>\n",
       "    </tr>\n",
       "  </tbody>\n",
       "</table>\n",
       "</div>"
      ],
      "text/plain": [
       "            ImageId                                   PredictionString\n",
       "0  00000b4dcff7f799  /m/0dzf4 0.29 0.8515 0.29339 0.92297 0.44191 /...\n",
       "1  00001a21632de752  /m/03q69 0.62 0.56335 0.58706 0.80463 1.0 /m/0...\n",
       "2  0000d67245642c5f  /m/031n1 0.06 0.0 0.12647 0.71125 0.90622 /m/0...\n",
       "3  0001244aa8ed3099  /m/035r7c 0.25 0.24612 0.06044 0.79299 0.43748...\n",
       "4  000172d1dd1adce0  /m/04hgtk 0.12 0.29667 0.35318 0.31774 0.38799..."
      ]
     },
     "execution_count": 4,
     "metadata": {},
     "output_type": "execute_result"
    }
   ],
   "source": [
    "df_bbox_submission.head()"
   ]
  },
  {
   "cell_type": "code",
   "execution_count": 5,
   "metadata": {},
   "outputs": [
    {
     "data": {
      "application/vnd.jupyter.widget-view+json": {
       "model_id": "fa1dde825f49415686e3151c05f8b341",
       "version_major": 2,
       "version_minor": 0
      },
      "text/plain": [
       "HBox(children=(IntProgress(value=1, bar_style='info', max=1), HTML(value='')))"
      ]
     },
     "metadata": {},
     "output_type": "display_data"
    },
    {
     "name": "stdout",
     "output_type": "stream",
     "text": [
      "\n"
     ]
    }
   ],
   "source": [
    "list_bboxes = []\n",
    "for index, row in tqdm(df_bbox_submission.iterrows()):\n",
    "    bboxes = []\n",
    "    image_id = row[\"ImageId\"]\n",
    "    arrList = row[\"PredictionString\"]\n",
    "    predictList = arrList.split(\"/m/\")[1:]\n",
    "    for pred in predictList:\n",
    "        predItem = pred.split(\" \")\n",
    "        clsId = \"/m/\"+predItem[0]\n",
    "        confidence = float(predItem[1])\n",
    "        XMin, YMin, XMax, YMax = [float(x) for x in predItem[2:6]]\n",
    "        dict_item = {\n",
    "            \"LabelName\":clsId,\n",
    "            \"Confidence\":confidence,\n",
    "            \"XMin\":XMin,\n",
    "            \"YMin\":YMin,\n",
    "            \"XMax\":XMax,\n",
    "            \"YMax\":YMax,\n",
    "            \"ImageID\":image_id,\n",
    "            \"IsGroupOf\":0\n",
    "        }\n",
    "        list_bboxes.append(dict_item)\n",
    "\n",
    "df_sub_fmt_bboxes = pd.DataFrame(list_bboxes)"
   ]
  },
  {
   "cell_type": "code",
   "execution_count": 6,
   "metadata": {},
   "outputs": [],
   "source": [
    "df_sub_fmt_bboxes.to_csv(\"submission2_formatted.csv\", index=False)"
   ]
  },
  {
   "cell_type": "code",
   "execution_count": 3,
   "metadata": {},
   "outputs": [],
   "source": [
    "df_sub2_fmt = pd.read_csv(\"submission2_formatted.csv\")"
   ]
  },
  {
   "cell_type": "code",
   "execution_count": 4,
   "metadata": {},
   "outputs": [
    {
     "data": {
      "text/plain": [
       "97574101"
      ]
     },
     "execution_count": 4,
     "metadata": {},
     "output_type": "execute_result"
    }
   ],
   "source": [
    "len(df_sub2_fmt)"
   ]
  },
  {
   "cell_type": "code",
   "execution_count": null,
   "metadata": {},
   "outputs": [],
   "source": [
    "# !python oid_hierarchical_labels_expansion.py --json_hierarchy_file=../dataset/challenge-2019-label500-hierarchy.json --input_annotations=submission2_formatted.csv --output_annotations=submission2_formatted_levelled.csv --annotation_type=1"
   ]
  },
  {
   "cell_type": "code",
   "execution_count": 2,
   "metadata": {},
   "outputs": [],
   "source": [
    "df_sub_to = pd.read_csv(\"submission2_formatted_levelled.csv\")"
   ]
  },
  {
   "cell_type": "code",
   "execution_count": 3,
   "metadata": {},
   "outputs": [
    {
     "data": {
      "text/plain": [
       "132511810"
      ]
     },
     "execution_count": 3,
     "metadata": {},
     "output_type": "execute_result"
    }
   ],
   "source": [
    "len(df_sub_to)"
   ]
  },
  {
   "cell_type": "code",
   "execution_count": 4,
   "metadata": {},
   "outputs": [
    {
     "data": {
      "text/html": [
       "<div>\n",
       "<style scoped>\n",
       "    .dataframe tbody tr th:only-of-type {\n",
       "        vertical-align: middle;\n",
       "    }\n",
       "\n",
       "    .dataframe tbody tr th {\n",
       "        vertical-align: top;\n",
       "    }\n",
       "\n",
       "    .dataframe thead th {\n",
       "        text-align: right;\n",
       "    }\n",
       "</style>\n",
       "<table border=\"1\" class=\"dataframe\">\n",
       "  <thead>\n",
       "    <tr style=\"text-align: right;\">\n",
       "      <th></th>\n",
       "      <th>Confidence</th>\n",
       "      <th>ImageID</th>\n",
       "      <th>IsGroupOf</th>\n",
       "      <th>LabelName</th>\n",
       "      <th>XMax</th>\n",
       "      <th>XMin</th>\n",
       "      <th>YMax</th>\n",
       "      <th>YMin</th>\n",
       "    </tr>\n",
       "  </thead>\n",
       "  <tbody>\n",
       "    <tr>\n",
       "      <th>0</th>\n",
       "      <td>0.29</td>\n",
       "      <td>00000b4dcff7f799</td>\n",
       "      <td>0</td>\n",
       "      <td>/m/0dzf4</td>\n",
       "      <td>0.92297</td>\n",
       "      <td>0.85150</td>\n",
       "      <td>0.44191</td>\n",
       "      <td>0.29339</td>\n",
       "    </tr>\n",
       "    <tr>\n",
       "      <th>1</th>\n",
       "      <td>0.27</td>\n",
       "      <td>00000b4dcff7f799</td>\n",
       "      <td>0</td>\n",
       "      <td>/m/04hgtk</td>\n",
       "      <td>0.80473</td>\n",
       "      <td>0.76490</td>\n",
       "      <td>0.44061</td>\n",
       "      <td>0.37286</td>\n",
       "    </tr>\n",
       "    <tr>\n",
       "      <th>2</th>\n",
       "      <td>0.26</td>\n",
       "      <td>00000b4dcff7f799</td>\n",
       "      <td>0</td>\n",
       "      <td>/m/04hgtk</td>\n",
       "      <td>0.63076</td>\n",
       "      <td>0.58915</td>\n",
       "      <td>0.50128</td>\n",
       "      <td>0.43388</td>\n",
       "    </tr>\n",
       "    <tr>\n",
       "      <th>3</th>\n",
       "      <td>0.25</td>\n",
       "      <td>00000b4dcff7f799</td>\n",
       "      <td>0</td>\n",
       "      <td>/m/035r7c</td>\n",
       "      <td>0.51779</td>\n",
       "      <td>0.47175</td>\n",
       "      <td>0.86208</td>\n",
       "      <td>0.60471</td>\n",
       "    </tr>\n",
       "    <tr>\n",
       "      <th>4</th>\n",
       "      <td>0.23</td>\n",
       "      <td>00000b4dcff7f799</td>\n",
       "      <td>0</td>\n",
       "      <td>/m/035r7c</td>\n",
       "      <td>0.93331</td>\n",
       "      <td>0.87764</td>\n",
       "      <td>0.79844</td>\n",
       "      <td>0.56654</td>\n",
       "    </tr>\n",
       "  </tbody>\n",
       "</table>\n",
       "</div>"
      ],
      "text/plain": [
       "   Confidence           ImageID  IsGroupOf  LabelName     XMax     XMin  \\\n",
       "0        0.29  00000b4dcff7f799          0   /m/0dzf4  0.92297  0.85150   \n",
       "1        0.27  00000b4dcff7f799          0  /m/04hgtk  0.80473  0.76490   \n",
       "2        0.26  00000b4dcff7f799          0  /m/04hgtk  0.63076  0.58915   \n",
       "3        0.25  00000b4dcff7f799          0  /m/035r7c  0.51779  0.47175   \n",
       "4        0.23  00000b4dcff7f799          0  /m/035r7c  0.93331  0.87764   \n",
       "\n",
       "      YMax     YMin  \n",
       "0  0.44191  0.29339  \n",
       "1  0.44061  0.37286  \n",
       "2  0.50128  0.43388  \n",
       "3  0.86208  0.60471  \n",
       "4  0.79844  0.56654  "
      ]
     },
     "execution_count": 4,
     "metadata": {},
     "output_type": "execute_result"
    }
   ],
   "source": [
    "df_sub_to.head()"
   ]
  },
  {
   "cell_type": "code",
   "execution_count": 5,
   "metadata": {},
   "outputs": [],
   "source": [
    "df_grp = df_sub_to.groupby(\"ImageID\")"
   ]
  },
  {
   "cell_type": "code",
   "execution_count": 6,
   "metadata": {},
   "outputs": [],
   "source": [
    "out_file=\"submission_levelled.csv\""
   ]
  },
  {
   "cell_type": "code",
   "execution_count": 7,
   "metadata": {
    "scrolled": false
   },
   "outputs": [
    {
     "data": {
      "application/vnd.jupyter.widget-view+json": {
       "model_id": "20818978f14d43e0af04dc7346461210",
       "version_major": 2,
       "version_minor": 0
      },
      "text/plain": [
       "HBox(children=(IntProgress(value=0, max=99999), HTML(value='')))"
      ]
     },
     "metadata": {},
     "output_type": "display_data"
    },
    {
     "name": "stdout",
     "output_type": "stream",
     "text": [
      "\n"
     ]
    }
   ],
   "source": [
    "f = open(out_file,\"w+\")\n",
    "results=\"ImageId,PredictionString\\n\"\n",
    "f.write(results)\n",
    "for image_id, grp in tqdm(df_grp):\n",
    "    results=image_id+\",\"\n",
    "    for index, row in grp.iterrows():\n",
    "        clsId = row[\"LabelName\"]\n",
    "        score = row[\"Confidence\"]\n",
    "        bbox = str(row[\"XMin\"]) + \" \" + str(row[\"YMin\"]) + \" \" + str(row[\"XMax\"]) + \" \" + str(row[\"YMax\"])\n",
    "        results+= str(clsId) + \" \"+ str(score)+ \" \" + bbox + \" \"\n",
    "    results +=\"\\n\"\n",
    "    f.write(results)\n",
    "f.close()"
   ]
  },
  {
   "cell_type": "code",
   "execution_count": 8,
   "metadata": {},
   "outputs": [],
   "source": [
    "!gzip -c submission_levelled.csv > submission_levelled2.csv.gz"
   ]
  },
  {
   "cell_type": "code",
   "execution_count": null,
   "metadata": {},
   "outputs": [],
   "source": []
  }
 ],
 "metadata": {
  "kernelspec": {
   "display_name": "Python 3",
   "language": "python",
   "name": "python3"
  },
  "language_info": {
   "codemirror_mode": {
    "name": "ipython",
    "version": 3
   },
   "file_extension": ".py",
   "mimetype": "text/x-python",
   "name": "python",
   "nbconvert_exporter": "python",
   "pygments_lexer": "ipython3",
   "version": "3.7.3"
  }
 },
 "nbformat": 4,
 "nbformat_minor": 2
}
