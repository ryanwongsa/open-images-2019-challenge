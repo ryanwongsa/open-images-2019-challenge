{
 "cells": [
  {
   "cell_type": "code",
   "execution_count": 1,
   "metadata": {},
   "outputs": [],
   "source": [
    "%matplotlib inline"
   ]
  },
  {
   "cell_type": "code",
   "execution_count": 2,
   "metadata": {},
   "outputs": [
    {
     "data": {
      "text/plain": [
       "0"
      ]
     },
     "execution_count": 2,
     "metadata": {},
     "output_type": "execute_result"
    }
   ],
   "source": [
    "import pandas as pd\n",
    "import numpy as np\n",
    "from tqdm import tqdm\n",
    "tqdm.pandas()\n",
    "import gc\n",
    "import lightgbm as lgb\n",
    "from sklearn.model_selection import train_test_split, GridSearchCV\n",
    "gc.collect()"
   ]
  },
  {
   "cell_type": "code",
   "execution_count": null,
   "metadata": {},
   "outputs": [],
   "source": [
    "df_train_vrd_rel = pd.read_hdf('vrd/temp/df_train_vrd_rel.h5', 'df_train_vrd_rel')\n",
    "df_valid_vrd_rel = pd.read_hdf('vrd/temp/df_valid_vrd_rel.h5', 'df_valid_vrd_rel')\n",
    "df_test_rel = pd.read_hdf('vrd/temp/df_test_rel.h5', 'df_test_rel')"
   ]
  },
  {
   "cell_type": "markdown",
   "metadata": {},
   "source": [
    "## 1. Train Relationship Model"
   ]
  },
  {
   "cell_type": "markdown",
   "metadata": {},
   "source": [
    "### 1.1 Prepare Features"
   ]
  },
  {
   "cell_type": "code",
   "execution_count": 4,
   "metadata": {},
   "outputs": [],
   "source": [
    "def computeAspectRatio1(row):\n",
    "    return (row[\"XMax1\"]-row[\"XMin1\"])/(row[\"YMax1\"]-row[\"YMin1\"])\n",
    "\n",
    "def computeAspectRatio2(row):\n",
    "    return (row[\"XMax2\"]-row[\"XMin2\"])/(row[\"YMax2\"]-row[\"YMin2\"])\n",
    "\n",
    "def computeSize1(row):\n",
    "    return (row[\"XMax1\"]-row[\"XMin1\"])*(row[\"YMax1\"]-row[\"YMin1\"])\n",
    "\n",
    "def computeSize2(row):\n",
    "    return (row[\"XMax2\"]-row[\"XMin2\"])*(row[\"YMax2\"]-row[\"YMin2\"])\n",
    "\n",
    "def computeSizeDiff(row):\n",
    "    return computeSize1(row)/computeSize2(row)\n",
    "\n",
    "def computeCenterX1(row):\n",
    "    return (row[\"XMax1\"]-row[\"XMin1\"])/2+row[\"XMin1\"]\n",
    "\n",
    "def computeCenterX2(row):\n",
    "    return (row[\"XMax2\"]-row[\"XMin2\"])/2+row[\"XMin2\"]\n",
    "\n",
    "def computeCenterY1(row):\n",
    "    return (row[\"YMax1\"]-row[\"YMin1\"])/2+row[\"YMin1\"]\n",
    "\n",
    "def computeCenterY2(row):\n",
    "    return (row[\"YMax2\"]-row[\"YMin2\"])/2+row[\"YMin2\"]\n",
    "\n",
    "def computeCenterXDiff(row):\n",
    "    return (computeCenterX1(row)-computeCenterX2(row)) / (row[\"XMax1\"]-row[\"XMin1\"])\n",
    "    \n",
    "def computeCenterYDiff(row):\n",
    "    return (computeCenterY1(row)-computeCenterY2(row)) / (row[\"YMax1\"]-row[\"YMin1\"])\n",
    "\n",
    "def computeIOU(row):\n",
    "    xA = max(row[\"XMin1\"], row[\"XMin2\"])\n",
    "    yA = max(row[\"YMin1\"], row[\"YMin2\"])\n",
    "    xB = min(row[\"XMax1\"], row[\"XMax2\"])\n",
    "    yB = min(row[\"YMax1\"], row[\"YMax2\"])\n",
    "\n",
    "    interArea = max(0, xB - xA) * max(0, yB - yA)\n",
    "\n",
    "    boxAArea = (row[\"XMax1\"] - row[\"XMin1\"]) * (row[\"YMax1\"] - row[\"YMin1\"])\n",
    "    boxBArea = (row[\"XMax2\"] - row[\"XMin2\"]) * (row[\"YMax2\"] - row[\"YMin2\"])\n",
    "\n",
    "    iou = interArea / float(boxAArea + boxBArea - interArea)\n",
    "    return iou\n",
    "\n",
    "def computeIntersection1(row):\n",
    "    xA = max(row[\"XMin1\"], row[\"XMin2\"])\n",
    "    yA = max(row[\"YMin1\"], row[\"YMin2\"])\n",
    "    xB = min(row[\"XMax1\"], row[\"XMax2\"])\n",
    "    yB = min(row[\"YMax1\"], row[\"YMax2\"])\n",
    "\n",
    "    interArea = max(0, xB - xA) * max(0, yB - yA)\n",
    "\n",
    "    return interArea / computeSize1(row)\n",
    "\n",
    "def computeIntersection2(row):\n",
    "    xA = max(row[\"XMin1\"], row[\"XMin2\"])\n",
    "    yA = max(row[\"YMin1\"], row[\"YMin2\"])\n",
    "    xB = min(row[\"XMax1\"], row[\"XMax2\"])\n",
    "    yB = min(row[\"YMax1\"], row[\"YMax2\"])\n",
    "\n",
    "    interArea = max(0, xB - xA) * max(0, yB - yA)\n",
    "\n",
    "    return interArea / computeSize2(row)\n",
    "\n",
    "def add_features(df):\n",
    "    df[\"AspectRatio1\"] = df.progress_apply(lambda row: computeAspectRatio1(row), axis=1)\n",
    "    df[\"AspectRatio2\"] = df.progress_apply(lambda row: computeAspectRatio2(row), axis=1)\n",
    "\n",
    "#     df[\"Size1\"] = df.progress_apply(lambda row: computeSize1(row), axis=1)\n",
    "#     df[\"Size2\"] = df.progress_apply(lambda row: computeSize2(row), axis=1)\n",
    "    \n",
    "    df[\"sizeDiff\"] = df.progress_apply(lambda row: computeSizeDiff(row), axis=1)\n",
    "\n",
    "#     df[\"CenterX1\"] = df.progress_apply(lambda row: computeCenterX1(row), axis=1)\n",
    "#     df[\"CenterX2\"] = df.progress_apply(lambda row: computeCenterX2(row), axis=1)\n",
    "#     df[\"CenterY1\"] = df.progress_apply(lambda row: computeCenterY1(row), axis=1)\n",
    "#     df[\"CenterY2\"] = df.progress_apply(lambda row: computeCenterY2(row), axis=1)\n",
    "\n",
    "    df[\"XCenterDiff\"] = df.progress_apply(lambda row: computeCenterXDiff(row), axis=1)\n",
    "    df[\"YCenterDiff\"] = df.progress_apply(lambda row: computeCenterYDiff(row), axis=1)\n",
    "\n",
    "#     df[\"CenterDiff\"] = df.progress_apply(lambda row: computeCenterDiff(row), axis=1)\n",
    "#     df[\"CenterX\"] = df.progress_apply(lambda row: computeCenterX(row), axis=1)\n",
    "#     df[\"CenterY\"] = df.progress_apply(lambda row: computeCenterY(row), axis=1)\n",
    "\n",
    "    df[\"IOU\"] = df.progress_apply(lambda row: computeIOU(row), axis=1)\n",
    "    \n",
    "    df[\"InterArea1\"] = df.progress_apply(lambda row: computeIntersection1(row), axis=1)\n",
    "    df[\"InterArea2\"] = df.progress_apply(lambda row: computeIntersection2(row), axis=1)"
   ]
  },
  {
   "cell_type": "code",
   "execution_count": 7,
   "metadata": {
    "scrolled": true
   },
   "outputs": [
    {
     "name": "stderr",
     "output_type": "stream",
     "text": [
      "100%|██████████| 180626/180626 [00:17<00:00, 10609.52it/s]\n",
      "100%|██████████| 180626/180626 [00:17<00:00, 10568.89it/s]\n",
      "100%|██████████| 180626/180626 [00:21<00:00, 8523.44it/s]\n",
      "100%|██████████| 180626/180626 [00:21<00:00, 8436.47it/s]\n",
      "100%|██████████| 180626/180626 [00:21<00:00, 8360.10it/s]\n",
      "100%|██████████| 180626/180626 [00:29<00:00, 6031.93it/s]\n",
      "100%|██████████| 180626/180626 [00:25<00:00, 7016.01it/s]\n",
      "100%|██████████| 180626/180626 [00:30<00:00, 5851.47it/s]\n"
     ]
    }
   ],
   "source": [
    "add_features(df_train_vrd_rel)"
   ]
  },
  {
   "cell_type": "code",
   "execution_count": 5,
   "metadata": {},
   "outputs": [
    {
     "name": "stderr",
     "output_type": "stream",
     "text": [
      "100%|██████████| 1418/1418 [00:00<00:00, 4014.66it/s]\n",
      "100%|██████████| 1418/1418 [00:00<00:00, 10099.65it/s]\n",
      "100%|██████████| 1418/1418 [00:00<00:00, 8175.59it/s]\n",
      "100%|██████████| 1418/1418 [00:00<00:00, 8239.06it/s]\n",
      "100%|██████████| 1418/1418 [00:00<00:00, 8365.13it/s]\n",
      "100%|██████████| 1418/1418 [00:00<00:00, 5295.93it/s]\n",
      "100%|██████████| 1418/1418 [00:00<00:00, 5064.50it/s]\n",
      "100%|██████████| 1418/1418 [00:00<00:00, 4147.85it/s]\n"
     ]
    }
   ],
   "source": [
    "add_features(df_valid_vrd_rel)"
   ]
  },
  {
   "cell_type": "code",
   "execution_count": 9,
   "metadata": {},
   "outputs": [
    {
     "name": "stderr",
     "output_type": "stream",
     "text": [
      "100%|██████████| 3601704/3601704 [06:42<00:00, 8948.45it/s] \n",
      "100%|██████████| 3601704/3601704 [06:36<00:00, 9072.66it/s] \n",
      "100%|██████████| 3601704/3601704 [08:22<00:00, 7166.02it/s]\n",
      "100%|██████████| 3601704/3601704 [08:28<00:00, 7089.47it/s]\n",
      "100%|██████████| 3601704/3601704 [08:48<00:00, 6809.32it/s]\n",
      "100%|██████████| 3601704/3601704 [12:13<00:00, 4913.09it/s]\n",
      "100%|██████████| 3601704/3601704 [10:40<00:00, 5625.23it/s]\n",
      "100%|██████████| 3601704/3601704 [10:47<00:00, 5559.99it/s]\n"
     ]
    }
   ],
   "source": [
    "add_features(df_test_rel)"
   ]
  },
  {
   "cell_type": "code",
   "execution_count": 10,
   "metadata": {},
   "outputs": [],
   "source": [
    "df_train_vrd_rel.to_hdf('vrd/df_train_vrd_rel_features2.h5', key='df_train_vrd_rel', mode='w', format='t')\n",
    "df_valid_vrd_rel.to_hdf('vrd/df_valid_vrd_rel_features2.h5', key='df_valid_vrd_rel', mode='w', format='t')\n",
    "df_test_rel.to_hdf('vrd/df_test_rel_features2.h5', key='df_test_rel', mode='w', format='t')"
   ]
  },
  {
   "cell_type": "markdown",
   "metadata": {},
   "source": [
    "### 1.2 Load Features"
   ]
  },
  {
   "cell_type": "code",
   "execution_count": 3,
   "metadata": {},
   "outputs": [],
   "source": [
    "df_train_vrd_rel = pd.read_hdf('vrd/df_train_vrd_rel_features2.h5', 'df_train_vrd_rel')\n",
    "df_valid_vrd_rel = pd.read_hdf('vrd/df_valid_vrd_rel_features2.h5', 'df_valid_vrd_rel')\n",
    "df_test_rel = pd.read_hdf('vrd/df_test_rel_features2.h5', 'df_test_rel') "
   ]
  },
  {
   "cell_type": "code",
   "execution_count": 4,
   "metadata": {},
   "outputs": [],
   "source": [
    "drop_cols = [\"XMin1\", \"XMax1\", \"YMin1\", \"YMax1\", \"XMin2\", \"XMax2\", \"YMin2\", \"YMax2\"]\n",
    "X_train = df_train_vrd_rel.drop(drop_cols+['ImageID','RelationshipLabel'], axis=1)\n",
    "y_train = df_train_vrd_rel['RelationshipLabel'].cat.codes \n",
    "X_valid = df_valid_vrd_rel.drop(drop_cols+['ImageID','RelationshipLabel'], axis=1)\n",
    "y_valid = df_valid_vrd_rel['RelationshipLabel'].cat.codes # pd.get_dummies(df_valid_vrd_rel['RelationshipLabel']).values"
   ]
  },
  {
   "cell_type": "code",
   "execution_count": 5,
   "metadata": {},
   "outputs": [],
   "source": [
    "X_test = df_test_rel.drop(drop_cols+['ImageID','Confidence1','Confidence2','RelationshipLabel'], axis=1)"
   ]
  },
  {
   "cell_type": "code",
   "execution_count": 6,
   "metadata": {},
   "outputs": [],
   "source": [
    "lgb_train = lgb.Dataset(X_train, y_train)\n",
    "lgb_valid = lgb.Dataset(X_valid, y_valid)"
   ]
  },
  {
   "cell_type": "code",
   "execution_count": 39,
   "metadata": {},
   "outputs": [],
   "source": [
    "params = {'boosting_type': 'gbdt',\n",
    "          'max_depth' : -1,\n",
    "          'objective': 'multiclass',\n",
    "          'nthread': 5,\n",
    "          'num_leaves': 64,\n",
    "          'learning_rate': 0.07,\n",
    "          'max_bin': 512,\n",
    "          'subsample_for_bin': 200,\n",
    "          'subsample': 1,\n",
    "          'subsample_freq': 1,\n",
    "          'colsample_bytree': 0.8,\n",
    "          'reg_alpha': 1.2,\n",
    "          'reg_lambda': 1.2,\n",
    "          'min_split_gain': 0.5,\n",
    "          'min_child_weight': 1,\n",
    "          'min_child_samples': 5,\n",
    "          'scale_pos_weight': 1,\n",
    "          'num_class' : 9,\n",
    "          'metric' : 'multi_logloss'\n",
    "          }"
   ]
  },
  {
   "cell_type": "code",
   "execution_count": 40,
   "metadata": {},
   "outputs": [],
   "source": [
    "gridParams = {\n",
    "    'learning_rate': [0.01, 0.05, 0.07],\n",
    "    'n_estimators': [8,16],\n",
    "    'num_leaves': [20, 24, 27, 42, 60,64],\n",
    "    'boosting_type' : ['gbdt'],\n",
    "    'objective' : ['multi_logloss'],\n",
    "    'random_state' : [501], \n",
    "    'colsample_bytree' : [0.64, 0.65],\n",
    "    'subsample' : [0.7,0.75],\n",
    "    #'reg_alpha' : [1, 1.2],\n",
    "    #'reg_lambda' : [ 1.2, 1.4],\n",
    "    }"
   ]
  },
  {
   "cell_type": "code",
   "execution_count": 41,
   "metadata": {},
   "outputs": [],
   "source": [
    "mdl = lgb.LGBMClassifier(boosting_type= 'gbdt',\n",
    "          objective = 'multi_logloss',\n",
    "          n_jobs = 5, \n",
    "          silent = True,\n",
    "          max_depth = params['max_depth'],\n",
    "          max_bin = params['max_bin'],\n",
    "          subsample_for_bin = params['subsample_for_bin'],\n",
    "          subsample = params['subsample'],\n",
    "          subsample_freq = params['subsample_freq'],\n",
    "          min_split_gain = params['min_split_gain'],\n",
    "          min_child_weight = params['min_child_weight'],\n",
    "          min_child_samples = params['min_child_samples'],\n",
    "          scale_pos_weight = params['scale_pos_weight'])"
   ]
  },
  {
   "cell_type": "code",
   "execution_count": 42,
   "metadata": {},
   "outputs": [
    {
     "data": {
      "text/plain": [
       "dict_keys(['boosting_type', 'class_weight', 'colsample_bytree', 'importance_type', 'learning_rate', 'max_depth', 'min_child_samples', 'min_child_weight', 'min_split_gain', 'n_estimators', 'n_jobs', 'num_leaves', 'objective', 'random_state', 'reg_alpha', 'reg_lambda', 'silent', 'subsample', 'subsample_for_bin', 'subsample_freq', 'max_bin', 'scale_pos_weight'])"
      ]
     },
     "execution_count": 42,
     "metadata": {},
     "output_type": "execute_result"
    }
   ],
   "source": [
    "mdl.get_params().keys()"
   ]
  },
  {
   "cell_type": "code",
   "execution_count": 43,
   "metadata": {},
   "outputs": [],
   "source": [
    "grid = GridSearchCV(mdl, gridParams, verbose=2, cv=4, n_jobs=-1)"
   ]
  },
  {
   "cell_type": "code",
   "execution_count": null,
   "metadata": {},
   "outputs": [
    {
     "name": "stdout",
     "output_type": "stream",
     "text": [
      "Fitting 4 folds for each of 144 candidates, totalling 576 fits\n"
     ]
    },
    {
     "name": "stderr",
     "output_type": "stream",
     "text": [
      "[Parallel(n_jobs=-1)]: Using backend LokyBackend with 8 concurrent workers.\n",
      "[Parallel(n_jobs=-1)]: Done  25 tasks      | elapsed:   24.4s\n"
     ]
    }
   ],
   "source": [
    "grid.fit(X_train, y_train)"
   ]
  },
  {
   "cell_type": "code",
   "execution_count": null,
   "metadata": {},
   "outputs": [],
   "source": [
    "print(grid.best_params_)\n",
    "print(grid.best_score_)"
   ]
  },
  {
   "cell_type": "code",
   "execution_count": null,
   "metadata": {},
   "outputs": [],
   "source": [
    "params['colsample_bytree'] = grid.best_params_['colsample_bytree']\n",
    "params['learning_rate'] = grid.best_params_['learning_rate']\n",
    "# params['max_bin'] = grid.best_params_['max_bin']\n",
    "params['num_leaves'] = grid.best_params_['num_leaves']\n",
    "#params['reg_alpha'] = grid.best_params_['reg_alpha']\n",
    "#params['reg_lambda'] = grid.best_params_['reg_lambda']\n",
    "params['subsample'] = grid.best_params_['subsample']"
   ]
  },
  {
   "cell_type": "code",
   "execution_count": null,
   "metadata": {},
   "outputs": [],
   "source": [
    "# params = {\n",
    "#         'objective': 'multiclass',\n",
    "#         'boosting': 'gbdt',\n",
    "#         'learning_rate': 0.01 ,\n",
    "#         'verbose': 0,\n",
    "#         'num_leaves': 64,\n",
    "#         'bagging_fraction': 0.95,\n",
    "#         'bagging_freq': 1,\n",
    "#         'bagging_seed': 1,\n",
    "#         'feature_fraction': 0.9,\n",
    "#         'feature_fraction_seed': 1,\n",
    "#         'max_bin': 512,\n",
    "#         'num_rounds': 10000,\n",
    "#         'metric': ['multi_logloss'],\n",
    "#         'num_class': 9\n",
    "#     }\n",
    "cats_dict = dict( zip( df_valid_vrd_rel['RelationshipLabel'].cat.codes, df_valid_vrd_rel['RelationshipLabel'] ) )"
   ]
  },
  {
   "cell_type": "code",
   "execution_count": null,
   "metadata": {},
   "outputs": [],
   "source": [
    "lgbm_model = lgb.train(params, train_set = lgb_train, num_boost_round=1000, valid_sets = lgb_valid, verbose_eval=5, early_stopping_rounds=40)"
   ]
  },
  {
   "cell_type": "code",
   "execution_count": 28,
   "metadata": {
    "scrolled": true
   },
   "outputs": [
    {
     "name": "stdout",
     "output_type": "stream",
     "text": [
      "Training until validation scores don't improve for 40 rounds.\n",
      "[5]\tvalid_0's multi_logloss: 1.07362\n",
      "[10]\tvalid_0's multi_logloss: 0.860642\n",
      "[15]\tvalid_0's multi_logloss: 0.708895\n",
      "[20]\tvalid_0's multi_logloss: 0.595456\n",
      "[25]\tvalid_0's multi_logloss: 0.525077\n",
      "[30]\tvalid_0's multi_logloss: 0.46848\n",
      "[35]\tvalid_0's multi_logloss: 0.433397\n",
      "[40]\tvalid_0's multi_logloss: 0.407806\n",
      "[45]\tvalid_0's multi_logloss: 0.390123\n",
      "[50]\tvalid_0's multi_logloss: 0.367451\n",
      "[55]\tvalid_0's multi_logloss: 0.348929\n",
      "[60]\tvalid_0's multi_logloss: 0.335692\n",
      "[65]\tvalid_0's multi_logloss: 0.326214\n",
      "[70]\tvalid_0's multi_logloss: 0.317889\n",
      "[75]\tvalid_0's multi_logloss: 0.310315\n",
      "[80]\tvalid_0's multi_logloss: 0.305279\n",
      "[85]\tvalid_0's multi_logloss: 0.301292\n",
      "[90]\tvalid_0's multi_logloss: 0.297597\n",
      "[95]\tvalid_0's multi_logloss: 0.293887\n",
      "[100]\tvalid_0's multi_logloss: 0.291454\n",
      "[105]\tvalid_0's multi_logloss: 0.289566\n",
      "[110]\tvalid_0's multi_logloss: 0.28758\n",
      "[115]\tvalid_0's multi_logloss: 0.286361\n",
      "[120]\tvalid_0's multi_logloss: 0.284916\n",
      "[125]\tvalid_0's multi_logloss: 0.283935\n",
      "[130]\tvalid_0's multi_logloss: 0.283043\n",
      "[135]\tvalid_0's multi_logloss: 0.282023\n",
      "[140]\tvalid_0's multi_logloss: 0.281122\n",
      "[145]\tvalid_0's multi_logloss: 0.280231\n",
      "[150]\tvalid_0's multi_logloss: 0.279539\n",
      "[155]\tvalid_0's multi_logloss: 0.279105\n",
      "[160]\tvalid_0's multi_logloss: 0.278751\n",
      "[165]\tvalid_0's multi_logloss: 0.278603\n",
      "[170]\tvalid_0's multi_logloss: 0.278272\n",
      "[175]\tvalid_0's multi_logloss: 0.278156\n",
      "[180]\tvalid_0's multi_logloss: 0.277966\n",
      "[185]\tvalid_0's multi_logloss: 0.277805\n",
      "[190]\tvalid_0's multi_logloss: 0.277642\n",
      "[195]\tvalid_0's multi_logloss: 0.277494\n",
      "[200]\tvalid_0's multi_logloss: 0.277322\n",
      "[205]\tvalid_0's multi_logloss: 0.277166\n",
      "[210]\tvalid_0's multi_logloss: 0.276971\n",
      "[215]\tvalid_0's multi_logloss: 0.276905\n",
      "[220]\tvalid_0's multi_logloss: 0.276783\n",
      "[225]\tvalid_0's multi_logloss: 0.276608\n",
      "[230]\tvalid_0's multi_logloss: 0.276411\n",
      "[235]\tvalid_0's multi_logloss: 0.276467\n",
      "[240]\tvalid_0's multi_logloss: 0.276369\n",
      "[245]\tvalid_0's multi_logloss: 0.276405\n",
      "[250]\tvalid_0's multi_logloss: 0.276321\n",
      "[255]\tvalid_0's multi_logloss: 0.27628\n",
      "[260]\tvalid_0's multi_logloss: 0.276094\n",
      "[265]\tvalid_0's multi_logloss: 0.276107\n",
      "[270]\tvalid_0's multi_logloss: 0.276144\n",
      "[275]\tvalid_0's multi_logloss: 0.276185\n",
      "[280]\tvalid_0's multi_logloss: 0.276064\n",
      "[285]\tvalid_0's multi_logloss: 0.276106\n",
      "[290]\tvalid_0's multi_logloss: 0.276124\n",
      "[295]\tvalid_0's multi_logloss: 0.276104\n",
      "[300]\tvalid_0's multi_logloss: 0.276298\n",
      "[305]\tvalid_0's multi_logloss: 0.27639\n",
      "Early stopping, best iteration is:\n",
      "[266]\tvalid_0's multi_logloss: 0.27601\n"
     ]
    }
   ],
   "source": [
    "lgbm_model = lgb.train(params, train_set = lgb_train, num_boost_round=1000, valid_sets = lgb_valid, verbose_eval=5, early_stopping_rounds=40)"
   ]
  },
  {
   "cell_type": "code",
   "execution_count": 35,
   "metadata": {},
   "outputs": [
    {
     "data": {
      "text/plain": [
       "<lightgbm.basic.Booster at 0x7f95f3191898>"
      ]
     },
     "execution_count": 35,
     "metadata": {},
     "output_type": "execute_result"
    }
   ],
   "source": [
    "lgbm_model.save_model('model3.txt')"
   ]
  },
  {
   "cell_type": "code",
   "execution_count": 37,
   "metadata": {},
   "outputs": [
    {
     "data": {
      "text/plain": [
       "<matplotlib.axes._subplots.AxesSubplot at 0x7fb4f6d76be0>"
      ]
     },
     "execution_count": 37,
     "metadata": {},
     "output_type": "execute_result"
    },
    {
     "data": {
      "image/png": "[encoded data removed]",
      "text/plain": [
       "<Figure size 432x288 with 1 Axes>"
      ]
     },
     "metadata": {
      "needs_background": "light"
     },
     "output_type": "display_data"
    }
   ],
   "source": [
    "lgb.plot_importance(lgbm_model)"
   ]
  },
  {
   "cell_type": "markdown",
   "metadata": {},
   "source": [
    "### 1.3 Evaluate"
   ]
  },
  {
   "cell_type": "code",
   "execution_count": 31,
   "metadata": {},
   "outputs": [],
   "source": [
    "lgbm_model = lgb.Booster(model_file='model2.txt')  # init model"
   ]
  },
  {
   "cell_type": "code",
   "execution_count": 35,
   "metadata": {},
   "outputs": [
    {
     "data": {
      "text/plain": [
       "3601704"
      ]
     },
     "execution_count": 35,
     "metadata": {},
     "output_type": "execute_result"
    }
   ],
   "source": [
    "batch_size = 5000\n",
    "len(X_test)"
   ]
  },
  {
   "cell_type": "code",
   "execution_count": 36,
   "metadata": {
    "scrolled": true
   },
   "outputs": [
    {
     "name": "stderr",
     "output_type": "stream",
     "text": [
      "\n",
      "  0%|          | 0/721 [00:00<?, ?it/s]\u001b[A/opt/anaconda3/lib/python3.7/site-packages/ipykernel_launcher.py:6: SettingWithCopyWarning: \n",
      "A value is trying to be set on a copy of a slice from a DataFrame.\n",
      "Try using .loc[row_indexer,col_indexer] = value instead\n",
      "\n",
      "See the caveats in the documentation: http://pandas.pydata.org/pandas-docs/stable/indexing.html#indexing-view-versus-copy\n",
      "  \n",
      "\n",
      "  0%|          | 1/721 [00:08<1:38:25,  8.20s/it]\u001b[A\n",
      "  0%|          | 2/721 [00:16<1:37:50,  8.16s/it]\u001b[A\n",
      "  0%|          | 3/721 [00:24<1:37:39,  8.16s/it]\u001b[A\n",
      "  1%|          | 4/721 [00:32<1:37:46,  8.18s/it]\u001b[A\n",
      "  1%|          | 5/721 [00:40<1:37:30,  8.17s/it]\u001b[A\n",
      "  1%|          | 6/721 [00:49<1:37:33,  8.19s/it]\u001b[A\n",
      "  1%|          | 7/721 [00:57<1:37:45,  8.21s/it]\u001b[A"
     ]
    },
    {
     "ename": "KeyboardInterrupt",
     "evalue": "",
     "output_type": "error",
     "traceback": [
      "\u001b[0;31m---------------------------------------------------------------------------\u001b[0m",
      "\u001b[0;31mKeyboardInterrupt\u001b[0m                         Traceback (most recent call last)",
      "\u001b[0;32m<ipython-input-36-d64289b504b6>\u001b[0m in \u001b[0;36m<module>\u001b[0;34m\u001b[0m\n\u001b[1;32m      1\u001b[0m \u001b[0;32mfor\u001b[0m \u001b[0mi\u001b[0m \u001b[0;32min\u001b[0m \u001b[0mtqdm\u001b[0m\u001b[0;34m(\u001b[0m\u001b[0mrange\u001b[0m\u001b[0;34m(\u001b[0m\u001b[0;36m0\u001b[0m\u001b[0;34m,\u001b[0m\u001b[0mlen\u001b[0m\u001b[0;34m(\u001b[0m\u001b[0mX_test\u001b[0m\u001b[0;34m)\u001b[0m\u001b[0;34m,\u001b[0m\u001b[0mbatch_size\u001b[0m\u001b[0;34m)\u001b[0m\u001b[0;34m)\u001b[0m\u001b[0;34m:\u001b[0m\u001b[0;34m\u001b[0m\u001b[0;34m\u001b[0m\u001b[0m\n\u001b[1;32m      2\u001b[0m     \u001b[0mtotal_batch_size\u001b[0m \u001b[0;34m=\u001b[0m \u001b[0mmin\u001b[0m\u001b[0;34m(\u001b[0m\u001b[0mi\u001b[0m\u001b[0;34m+\u001b[0m\u001b[0mbatch_size\u001b[0m\u001b[0;34m,\u001b[0m \u001b[0mlen\u001b[0m\u001b[0;34m(\u001b[0m\u001b[0mX_test\u001b[0m\u001b[0;34m)\u001b[0m\u001b[0;34m)\u001b[0m\u001b[0;34m\u001b[0m\u001b[0;34m\u001b[0m\u001b[0m\n\u001b[0;32m----> 3\u001b[0;31m     \u001b[0mpredictions\u001b[0m \u001b[0;34m=\u001b[0m \u001b[0mlgbm_model\u001b[0m\u001b[0;34m.\u001b[0m\u001b[0mpredict\u001b[0m\u001b[0;34m(\u001b[0m\u001b[0mX_test\u001b[0m\u001b[0;34m[\u001b[0m\u001b[0mi\u001b[0m\u001b[0;34m:\u001b[0m\u001b[0mtotal_batch_size\u001b[0m\u001b[0;34m]\u001b[0m\u001b[0;34m,\u001b[0m \u001b[0mnum_iteration\u001b[0m\u001b[0;34m=\u001b[0m\u001b[0mlgbm_model\u001b[0m\u001b[0;34m.\u001b[0m\u001b[0mbest_iteration\u001b[0m\u001b[0;34m)\u001b[0m\u001b[0;34m\u001b[0m\u001b[0;34m\u001b[0m\u001b[0m\n\u001b[0m\u001b[1;32m      4\u001b[0m     \u001b[0mpredict_rel_label\u001b[0m \u001b[0;34m=\u001b[0m \u001b[0mpredictions\u001b[0m\u001b[0;34m.\u001b[0m\u001b[0margmax\u001b[0m\u001b[0;34m(\u001b[0m\u001b[0maxis\u001b[0m\u001b[0;34m=\u001b[0m\u001b[0;36m1\u001b[0m\u001b[0;34m)\u001b[0m\u001b[0;34m\u001b[0m\u001b[0;34m\u001b[0m\u001b[0m\n\u001b[1;32m      5\u001b[0m     \u001b[0mcat_pred_rel_label\u001b[0m \u001b[0;34m=\u001b[0m \u001b[0;34m[\u001b[0m\u001b[0mcats_dict\u001b[0m\u001b[0;34m[\u001b[0m\u001b[0mx\u001b[0m\u001b[0;34m]\u001b[0m \u001b[0;32mfor\u001b[0m \u001b[0mx\u001b[0m \u001b[0;32min\u001b[0m \u001b[0mpredict_rel_label\u001b[0m\u001b[0;34m]\u001b[0m\u001b[0;34m\u001b[0m\u001b[0;34m\u001b[0m\u001b[0m\n",
      "\u001b[0;32m/opt/anaconda3/lib/python3.7/site-packages/lightgbm/basic.py\u001b[0m in \u001b[0;36mpredict\u001b[0;34m(self, data, num_iteration, raw_score, pred_leaf, pred_contrib, data_has_header, is_reshape, **kwargs)\u001b[0m\n\u001b[1;32m   2201\u001b[0m         return predictor.predict(data, num_iteration,\n\u001b[1;32m   2202\u001b[0m                                  \u001b[0mraw_score\u001b[0m\u001b[0;34m,\u001b[0m \u001b[0mpred_leaf\u001b[0m\u001b[0;34m,\u001b[0m \u001b[0mpred_contrib\u001b[0m\u001b[0;34m,\u001b[0m\u001b[0;34m\u001b[0m\u001b[0;34m\u001b[0m\u001b[0m\n\u001b[0;32m-> 2203\u001b[0;31m                                  data_has_header, is_reshape)\n\u001b[0m\u001b[1;32m   2204\u001b[0m \u001b[0;34m\u001b[0m\u001b[0m\n\u001b[1;32m   2205\u001b[0m     \u001b[0;32mdef\u001b[0m \u001b[0mrefit\u001b[0m\u001b[0;34m(\u001b[0m\u001b[0mself\u001b[0m\u001b[0;34m,\u001b[0m \u001b[0mdata\u001b[0m\u001b[0;34m,\u001b[0m \u001b[0mlabel\u001b[0m\u001b[0;34m,\u001b[0m \u001b[0mdecay_rate\u001b[0m\u001b[0;34m=\u001b[0m\u001b[0;36m0.9\u001b[0m\u001b[0;34m,\u001b[0m \u001b[0;34m**\u001b[0m\u001b[0mkwargs\u001b[0m\u001b[0;34m)\u001b[0m\u001b[0;34m:\u001b[0m\u001b[0;34m\u001b[0m\u001b[0;34m\u001b[0m\u001b[0m\n",
      "\u001b[0;32m/opt/anaconda3/lib/python3.7/site-packages/lightgbm/basic.py\u001b[0m in \u001b[0;36mpredict\u001b[0;34m(self, data, num_iteration, raw_score, pred_leaf, pred_contrib, data_has_header, is_reshape)\u001b[0m\n\u001b[1;32m    465\u001b[0m             \u001b[0mpreds\u001b[0m\u001b[0;34m,\u001b[0m \u001b[0mnrow\u001b[0m \u001b[0;34m=\u001b[0m \u001b[0mself\u001b[0m\u001b[0;34m.\u001b[0m\u001b[0m__pred_for_csc\u001b[0m\u001b[0;34m(\u001b[0m\u001b[0mdata\u001b[0m\u001b[0;34m,\u001b[0m \u001b[0mnum_iteration\u001b[0m\u001b[0;34m,\u001b[0m \u001b[0mpredict_type\u001b[0m\u001b[0;34m)\u001b[0m\u001b[0;34m\u001b[0m\u001b[0;34m\u001b[0m\u001b[0m\n\u001b[1;32m    466\u001b[0m         \u001b[0;32melif\u001b[0m \u001b[0misinstance\u001b[0m\u001b[0;34m(\u001b[0m\u001b[0mdata\u001b[0m\u001b[0;34m,\u001b[0m \u001b[0mnp\u001b[0m\u001b[0;34m.\u001b[0m\u001b[0mndarray\u001b[0m\u001b[0;34m)\u001b[0m\u001b[0;34m:\u001b[0m\u001b[0;34m\u001b[0m\u001b[0;34m\u001b[0m\u001b[0m\n\u001b[0;32m--> 467\u001b[0;31m             \u001b[0mpreds\u001b[0m\u001b[0;34m,\u001b[0m \u001b[0mnrow\u001b[0m \u001b[0;34m=\u001b[0m \u001b[0mself\u001b[0m\u001b[0;34m.\u001b[0m\u001b[0m__pred_for_np2d\u001b[0m\u001b[0;34m(\u001b[0m\u001b[0mdata\u001b[0m\u001b[0;34m,\u001b[0m \u001b[0mnum_iteration\u001b[0m\u001b[0;34m,\u001b[0m \u001b[0mpredict_type\u001b[0m\u001b[0;34m)\u001b[0m\u001b[0;34m\u001b[0m\u001b[0;34m\u001b[0m\u001b[0m\n\u001b[0m\u001b[1;32m    468\u001b[0m         \u001b[0;32melif\u001b[0m \u001b[0misinstance\u001b[0m\u001b[0;34m(\u001b[0m\u001b[0mdata\u001b[0m\u001b[0;34m,\u001b[0m \u001b[0mlist\u001b[0m\u001b[0;34m)\u001b[0m\u001b[0;34m:\u001b[0m\u001b[0;34m\u001b[0m\u001b[0;34m\u001b[0m\u001b[0m\n\u001b[1;32m    469\u001b[0m             \u001b[0;32mtry\u001b[0m\u001b[0;34m:\u001b[0m\u001b[0;34m\u001b[0m\u001b[0;34m\u001b[0m\u001b[0m\n",
      "\u001b[0;32m/opt/anaconda3/lib/python3.7/site-packages/lightgbm/basic.py\u001b[0m in \u001b[0;36m__pred_for_np2d\u001b[0;34m(self, mat, num_iteration, predict_type)\u001b[0m\n\u001b[1;32m    554\u001b[0m             \u001b[0;32mreturn\u001b[0m \u001b[0mpreds\u001b[0m\u001b[0;34m,\u001b[0m \u001b[0mnrow\u001b[0m\u001b[0;34m\u001b[0m\u001b[0;34m\u001b[0m\u001b[0m\n\u001b[1;32m    555\u001b[0m         \u001b[0;32melse\u001b[0m\u001b[0;34m:\u001b[0m\u001b[0;34m\u001b[0m\u001b[0;34m\u001b[0m\u001b[0m\n\u001b[0;32m--> 556\u001b[0;31m             \u001b[0;32mreturn\u001b[0m \u001b[0minner_predict\u001b[0m\u001b[0;34m(\u001b[0m\u001b[0mmat\u001b[0m\u001b[0;34m,\u001b[0m \u001b[0mnum_iteration\u001b[0m\u001b[0;34m,\u001b[0m \u001b[0mpredict_type\u001b[0m\u001b[0;34m)\u001b[0m\u001b[0;34m\u001b[0m\u001b[0;34m\u001b[0m\u001b[0m\n\u001b[0m\u001b[1;32m    557\u001b[0m \u001b[0;34m\u001b[0m\u001b[0m\n\u001b[1;32m    558\u001b[0m     \u001b[0;32mdef\u001b[0m \u001b[0m__pred_for_csr\u001b[0m\u001b[0;34m(\u001b[0m\u001b[0mself\u001b[0m\u001b[0;34m,\u001b[0m \u001b[0mcsr\u001b[0m\u001b[0;34m,\u001b[0m \u001b[0mnum_iteration\u001b[0m\u001b[0;34m,\u001b[0m \u001b[0mpredict_type\u001b[0m\u001b[0;34m)\u001b[0m\u001b[0;34m:\u001b[0m\u001b[0;34m\u001b[0m\u001b[0;34m\u001b[0m\u001b[0m\n",
      "\u001b[0;32m/opt/anaconda3/lib/python3.7/site-packages/lightgbm/basic.py\u001b[0m in \u001b[0;36minner_predict\u001b[0;34m(mat, num_iteration, predict_type, preds)\u001b[0m\n\u001b[1;32m    536\u001b[0m                 \u001b[0mc_str\u001b[0m\u001b[0;34m(\u001b[0m\u001b[0mself\u001b[0m\u001b[0;34m.\u001b[0m\u001b[0mpred_parameter\u001b[0m\u001b[0;34m)\u001b[0m\u001b[0;34m,\u001b[0m\u001b[0;34m\u001b[0m\u001b[0;34m\u001b[0m\u001b[0m\n\u001b[1;32m    537\u001b[0m                 \u001b[0mctypes\u001b[0m\u001b[0;34m.\u001b[0m\u001b[0mbyref\u001b[0m\u001b[0;34m(\u001b[0m\u001b[0mout_num_preds\u001b[0m\u001b[0;34m)\u001b[0m\u001b[0;34m,\u001b[0m\u001b[0;34m\u001b[0m\u001b[0;34m\u001b[0m\u001b[0m\n\u001b[0;32m--> 538\u001b[0;31m                 preds.ctypes.data_as(ctypes.POINTER(ctypes.c_double))))\n\u001b[0m\u001b[1;32m    539\u001b[0m             \u001b[0;32mif\u001b[0m \u001b[0mn_preds\u001b[0m \u001b[0;34m!=\u001b[0m \u001b[0mout_num_preds\u001b[0m\u001b[0;34m.\u001b[0m\u001b[0mvalue\u001b[0m\u001b[0;34m:\u001b[0m\u001b[0;34m\u001b[0m\u001b[0;34m\u001b[0m\u001b[0m\n\u001b[1;32m    540\u001b[0m                 \u001b[0;32mraise\u001b[0m \u001b[0mValueError\u001b[0m\u001b[0;34m(\u001b[0m\u001b[0;34m\"Wrong length for predict results\"\u001b[0m\u001b[0;34m)\u001b[0m\u001b[0;34m\u001b[0m\u001b[0;34m\u001b[0m\u001b[0m\n",
      "\u001b[0;31mKeyboardInterrupt\u001b[0m: "
     ]
    }
   ],
   "source": [
    "for i in tqdm(range(0,len(X_test),batch_size)):\n",
    "    total_batch_size = min(i+batch_size, len(X_test))\n",
    "    predictions = lgbm_model.predict(X_test[i:total_batch_size], num_iteration=lgbm_model.best_iteration)\n",
    "    predict_rel_label = predictions.argmax(axis=1)\n",
    "    cat_pred_rel_label = [cats_dict[x] for x in predict_rel_label]\n",
    "    df_test_rel[i:total_batch_size][\"RelationshipLabel\"] = cat_pred_rel_label"
   ]
  },
  {
   "cell_type": "markdown",
   "metadata": {},
   "source": [
    "### 1.4 THIS IS WHAT WE WANT WHEN WE COMBINE"
   ]
  },
  {
   "cell_type": "code",
   "execution_count": null,
   "metadata": {},
   "outputs": [],
   "source": [
    "df_test_rel.to_csv(\"submission_rel2.csv\",index=False)"
   ]
  },
  {
   "cell_type": "markdown",
   "metadata": {},
   "source": [
    "### 1.5 Individual Submission"
   ]
  },
  {
   "cell_type": "code",
   "execution_count": 14,
   "metadata": {},
   "outputs": [],
   "source": [
    "list_imgids = list(df_test_rel['ImageID'].unique())"
   ]
  },
  {
   "cell_type": "code",
   "execution_count": 15,
   "metadata": {},
   "outputs": [],
   "source": [
    "df_group = df_test_rel.groupby('ImageID')"
   ]
  },
  {
   "cell_type": "code",
   "execution_count": null,
   "metadata": {},
   "outputs": [
    {
     "name": "stderr",
     "output_type": "stream",
     "text": [
      " 90%|█████████ | 43184/47727 [3:35:23<23:12,  3.26it/s]  "
     ]
    }
   ],
   "source": [
    "final_sub = []\n",
    "i=0\n",
    "for image_id in tqdm(list_imgids):\n",
    "    gp = df_test_rel[df_test_rel['ImageID']==image_id]\n",
    "    predStr = \"\"\n",
    "    for index, row in gp.iterrows():\n",
    "        confidence = (row[\"Confidence1\"] + row[\"Confidence2\"])/2\n",
    "        label1 = row[\"LabelName1\"]\n",
    "        XMin1, YMin1, XMax1, YMax1 = row[\"XMin1\"], row[\"YMin1\"], row[\"XMax1\"], row[\"YMax1\"] \n",
    "        label2 = row[\"LabelName2\"]\n",
    "        XMin2, YMin2, XMax2, YMax2 = row[\"XMin2\"], row[\"YMin2\"], row[\"XMax2\"], row[\"YMax2\"] \n",
    "        relLabel = row[\"RelationshipLabel\"]\n",
    "        predStr += str(confidence) + \" \" + str(label1) + \" \" + \\\n",
    "          str(XMin1) + \" \"+ str(YMin1) + \" \" + str(XMax1) + \" \"+ str(YMax1) + \" \" + \\\n",
    "          str(label2) + \" \" + \\\n",
    "          str(XMin2) + \" \"+ str(YMin2) + \" \" + str(XMax2) + \" \"+ str(YMax2) + \" \" + \\\n",
    "          str(relLabel) + \" \"\n",
    "    dict_res = {\n",
    "      \"ImageId\": image_id,\n",
    "      \"PredictionString\": predStr,\n",
    "    }\n",
    "    final_sub.append(dict_res)\n",
    "    i+=1"
   ]
  },
  {
   "cell_type": "code",
   "execution_count": null,
   "metadata": {},
   "outputs": [],
   "source": [
    "len(final_sub)"
   ]
  },
  {
   "cell_type": "code",
   "execution_count": null,
   "metadata": {},
   "outputs": [],
   "source": [
    "df_bbox_submission = pd.read_csv(\"submission.csv\")\n",
    "list_test_imageIds = df_bbox_submission[\"ImageID\"].values"
   ]
  },
  {
   "cell_type": "code",
   "execution_count": null,
   "metadata": {},
   "outputs": [],
   "source": [
    "df_submit = pd.DataFrame(final_sub)"
   ]
  },
  {
   "cell_type": "code",
   "execution_count": null,
   "metadata": {},
   "outputs": [],
   "source": [
    "list_predicted_imgs = df_submit.ImageId.values\n",
    "main_list = list(set(list_test_imageIds) - set(list_predicted_imgs))\n",
    "len(main_list)"
   ]
  },
  {
   "cell_type": "code",
   "execution_count": null,
   "metadata": {},
   "outputs": [],
   "source": [
    "append_unpredicted = []\n",
    "for ml in main_list:\n",
    "    append_unpredicted.append({\n",
    "      \"ImageId\":ml,\n",
    "      \"PredictionString\":\"\"\n",
    "    })\n",
    "df_append = pd.DataFrame(append_unpredicted)"
   ]
  },
  {
   "cell_type": "code",
   "execution_count": null,
   "metadata": {},
   "outputs": [],
   "source": [
    "df_final = pd.concat([df_submit, df_append], ignore_index=True, sort =False)"
   ]
  },
  {
   "cell_type": "code",
   "execution_count": null,
   "metadata": {},
   "outputs": [],
   "source": [
    "df_final.head()"
   ]
  },
  {
   "cell_type": "code",
   "execution_count": null,
   "metadata": {},
   "outputs": [],
   "source": [
    "df_final.to_csv(\"vrd_submission.csv\", index=False)"
   ]
  },
  {
   "cell_type": "code",
   "execution_count": null,
   "metadata": {},
   "outputs": [],
   "source": []
  },
  {
   "cell_type": "code",
   "execution_count": null,
   "metadata": {},
   "outputs": [],
   "source": []
  }
 ],
 "metadata": {
  "kernelspec": {
   "display_name": "Python 3",
   "language": "python",
   "name": "python3"
  },
  "language_info": {
   "codemirror_mode": {
    "name": "ipython",
    "version": 3
   },
   "file_extension": ".py",
   "mimetype": "text/x-python",
   "name": "python",
   "nbconvert_exporter": "python",
   "pygments_lexer": "ipython3",
   "version": "3.7.3"
  }
 },
 "nbformat": 4,
 "nbformat_minor": 2
}
