{
 "cells": [
  {
   "cell_type": "code",
   "execution_count": 1,
   "metadata": {},
   "outputs": [
    {
     "data": {
      "text/plain": [
       "0"
      ]
     },
     "execution_count": 1,
     "metadata": {},
     "output_type": "execute_result"
    }
   ],
   "source": [
    "import pandas as pd\n",
    "import gc\n",
    "from collections import defaultdict\n",
    "from tqdm import tqdm_notebook as tqdm\n",
    "gc.collect()"
   ]
  },
  {
   "cell_type": "code",
   "execution_count": 2,
   "metadata": {},
   "outputs": [],
   "source": [
    "sub_rel_dir = \"submission_rel2.csv\"\n",
    "sub_is_dir = \"submission_is.csv\""
   ]
  },
  {
   "cell_type": "code",
   "execution_count": 3,
   "metadata": {},
   "outputs": [],
   "source": [
    "df_rel = pd.read_csv(sub_rel_dir)\n",
    "df_is = pd.read_csv(sub_is_dir)\n",
    "df_bbox_submission = pd.read_csv(\"submission.csv\")\n",
    "list_test_imageIds = df_bbox_submission[\"ImageId\"].values\n",
    "del df_bbox_submission"
   ]
  },
  {
   "cell_type": "code",
   "execution_count": 4,
   "metadata": {},
   "outputs": [
    {
     "name": "stderr",
     "output_type": "stream",
     "text": [
      "/opt/anaconda3/lib/python3.7/site-packages/ipykernel_launcher.py:1: FutureWarning: Sorting because non-concatenation axis is not aligned. A future version\n",
      "of pandas will change to not sort by default.\n",
      "\n",
      "To accept the future behavior, pass 'sort=False'.\n",
      "\n",
      "To retain the current behavior and silence the warning, pass 'sort=True'.\n",
      "\n",
      "  \"\"\"Entry point for launching an IPython kernel.\n"
     ]
    }
   ],
   "source": [
    "df = pd.concat([df_rel, df_is])\n",
    "# df = df_rel"
   ]
  },
  {
   "cell_type": "code",
   "execution_count": 5,
   "metadata": {},
   "outputs": [
    {
     "data": {
      "text/plain": [
       "3853289"
      ]
     },
     "execution_count": 5,
     "metadata": {},
     "output_type": "execute_result"
    }
   ],
   "source": [
    "len(df)"
   ]
  },
  {
   "cell_type": "code",
   "execution_count": 6,
   "metadata": {},
   "outputs": [],
   "source": [
    "list_imgids = list(df['ImageID'].unique())"
   ]
  },
  {
   "cell_type": "code",
   "execution_count": 7,
   "metadata": {},
   "outputs": [
    {
     "data": {
      "text/plain": [
       "54112"
      ]
     },
     "execution_count": 7,
     "metadata": {},
     "output_type": "execute_result"
    }
   ],
   "source": [
    "len(list_imgids)"
   ]
  },
  {
   "cell_type": "code",
   "execution_count": 8,
   "metadata": {},
   "outputs": [],
   "source": [
    "dict_pred = defaultdict(str)"
   ]
  },
  {
   "cell_type": "code",
   "execution_count": 9,
   "metadata": {},
   "outputs": [
    {
     "data": {
      "application/vnd.jupyter.widget-view+json": {
       "model_id": "ec1295146d3f4be7b7b218dec9ae79e1",
       "version_major": 2,
       "version_minor": 0
      },
      "text/plain": [
       "HBox(children=(IntProgress(value=1, bar_style='info', max=1), HTML(value='')))"
      ]
     },
     "metadata": {},
     "output_type": "display_data"
    },
    {
     "name": "stdout",
     "output_type": "stream",
     "text": [
      "\n"
     ]
    }
   ],
   "source": [
    "for index, row in tqdm(df.iterrows()):\n",
    "    imgid = row[\"ImageID\"]\n",
    "    confidence = (row[\"Confidence1\"] + row[\"Confidence2\"])/2\n",
    "    label1 = row[\"LabelName1\"]\n",
    "    XMin1, YMin1, XMax1, YMax1 = row[\"XMin1\"], row[\"YMin1\"], row[\"XMax1\"], row[\"YMax1\"] \n",
    "    label2 = row[\"LabelName2\"]\n",
    "    XMin2, YMin2, XMax2, YMax2 = row[\"XMin2\"], row[\"YMin2\"], row[\"XMax2\"], row[\"YMax2\"] \n",
    "    relLabel = row[\"RelationshipLabel\"]\n",
    "    predStr = str(confidence) + \" \" + str(label1) + \" \" + \\\n",
    "      str(XMin1) + \" \"+ str(YMin1) + \" \" + str(XMax1) + \" \"+ str(YMax1) + \" \" + \\\n",
    "      str(label2) + \" \" + \\\n",
    "      str(XMin2) + \" \"+ str(YMin2) + \" \" + str(XMax2) + \" \"+ str(YMax2) + \" \" + \\\n",
    "      str(relLabel) + \" \"\n",
    "    dict_pred[imgid]+=predStr"
   ]
  },
  {
   "cell_type": "code",
   "execution_count": 10,
   "metadata": {},
   "outputs": [
    {
     "data": {
      "application/vnd.jupyter.widget-view+json": {
       "model_id": "25e094197d81418ea1a15ac471f0da55",
       "version_major": 2,
       "version_minor": 0
      },
      "text/plain": [
       "HBox(children=(IntProgress(value=0, max=54112), HTML(value='')))"
      ]
     },
     "metadata": {},
     "output_type": "display_data"
    },
    {
     "name": "stdout",
     "output_type": "stream",
     "text": [
      "\n"
     ]
    }
   ],
   "source": [
    "final_sub = []\n",
    "for key, value in tqdm(dict_pred.items()):\n",
    "    dict_res = {\n",
    "      \"ImageId\": key,\n",
    "      \"PredictionString\": value,\n",
    "    }\n",
    "    final_sub.append(dict_res)"
   ]
  },
  {
   "cell_type": "code",
   "execution_count": 11,
   "metadata": {},
   "outputs": [],
   "source": [
    "df_submit = pd.DataFrame(final_sub)"
   ]
  },
  {
   "cell_type": "code",
   "execution_count": 12,
   "metadata": {},
   "outputs": [
    {
     "data": {
      "text/plain": [
       "45887"
      ]
     },
     "execution_count": 12,
     "metadata": {},
     "output_type": "execute_result"
    }
   ],
   "source": [
    "list_predicted_imgs = df_submit.ImageId.values\n",
    "main_list = list(set(list_test_imageIds) - set(list_predicted_imgs))\n",
    "len(main_list)"
   ]
  },
  {
   "cell_type": "code",
   "execution_count": 13,
   "metadata": {},
   "outputs": [],
   "source": [
    "append_unpredicted = []\n",
    "for ml in main_list:\n",
    "    append_unpredicted.append({\n",
    "      \"ImageId\":ml,\n",
    "      \"PredictionString\":\"\"\n",
    "    })\n",
    "df_append = pd.DataFrame(append_unpredicted)"
   ]
  },
  {
   "cell_type": "code",
   "execution_count": 14,
   "metadata": {},
   "outputs": [],
   "source": [
    "df_final = pd.concat([df_submit, df_append], ignore_index=True, sort =False)"
   ]
  },
  {
   "cell_type": "code",
   "execution_count": 15,
   "metadata": {},
   "outputs": [
    {
     "data": {
      "text/html": [
       "<div>\n",
       "<style scoped>\n",
       "    .dataframe tbody tr th:only-of-type {\n",
       "        vertical-align: middle;\n",
       "    }\n",
       "\n",
       "    .dataframe tbody tr th {\n",
       "        vertical-align: top;\n",
       "    }\n",
       "\n",
       "    .dataframe thead th {\n",
       "        text-align: right;\n",
       "    }\n",
       "</style>\n",
       "<table border=\"1\" class=\"dataframe\">\n",
       "  <thead>\n",
       "    <tr style=\"text-align: right;\">\n",
       "      <th></th>\n",
       "      <th>ImageId</th>\n",
       "      <th>PredictionString</th>\n",
       "    </tr>\n",
       "  </thead>\n",
       "  <tbody>\n",
       "    <tr>\n",
       "      <th>0</th>\n",
       "      <td>00000b4dcff7f799</td>\n",
       "      <td>0.2998027503490448 /m/04yx4 0.86089194 0.30551...</td>\n",
       "    </tr>\n",
       "    <tr>\n",
       "      <th>1</th>\n",
       "      <td>00001a21632de752</td>\n",
       "      <td>0.45690925419330597 /m/03bt1vf 0.5485642 0.598...</td>\n",
       "    </tr>\n",
       "    <tr>\n",
       "      <th>2</th>\n",
       "      <td>0001dd930912683d</td>\n",
       "      <td>0.4464254043996334 /m/04yx4 0.72589636 0.08864...</td>\n",
       "    </tr>\n",
       "    <tr>\n",
       "      <th>3</th>\n",
       "      <td>0002f94fe2d2eb9f</td>\n",
       "      <td>0.004397584241814911 /m/04yx4 0.18545882 0.0 0...</td>\n",
       "    </tr>\n",
       "    <tr>\n",
       "      <th>4</th>\n",
       "      <td>0003d1c3be9ed3d6</td>\n",
       "      <td>0.42891743453219533 /m/04yx4 0.5961155 0.10516...</td>\n",
       "    </tr>\n",
       "  </tbody>\n",
       "</table>\n",
       "</div>"
      ],
      "text/plain": [
       "            ImageId                                   PredictionString\n",
       "0  00000b4dcff7f799  0.2998027503490448 /m/04yx4 0.86089194 0.30551...\n",
       "1  00001a21632de752  0.45690925419330597 /m/03bt1vf 0.5485642 0.598...\n",
       "2  0001dd930912683d  0.4464254043996334 /m/04yx4 0.72589636 0.08864...\n",
       "3  0002f94fe2d2eb9f  0.004397584241814911 /m/04yx4 0.18545882 0.0 0...\n",
       "4  0003d1c3be9ed3d6  0.42891743453219533 /m/04yx4 0.5961155 0.10516..."
      ]
     },
     "execution_count": 15,
     "metadata": {},
     "output_type": "execute_result"
    }
   ],
   "source": [
    "df_final.head()"
   ]
  },
  {
   "cell_type": "code",
   "execution_count": 16,
   "metadata": {},
   "outputs": [
    {
     "data": {
      "text/plain": [
       "99999"
      ]
     },
     "execution_count": 16,
     "metadata": {},
     "output_type": "execute_result"
    }
   ],
   "source": [
    "len(df_final)"
   ]
  },
  {
   "cell_type": "code",
   "execution_count": 17,
   "metadata": {},
   "outputs": [],
   "source": [
    "df_final.to_csv(\"vrd_submission3_combined.csv\", index=False)"
   ]
  },
  {
   "cell_type": "code",
   "execution_count": null,
   "metadata": {},
   "outputs": [],
   "source": []
  }
 ],
 "metadata": {
  "kernelspec": {
   "display_name": "Python 3",
   "language": "python",
   "name": "python3"
  },
  "language_info": {
   "codemirror_mode": {
    "name": "ipython",
    "version": 3
   },
   "file_extension": ".py",
   "mimetype": "text/x-python",
   "name": "python",
   "nbconvert_exporter": "python",
   "pygments_lexer": "ipython3",
   "version": "3.7.3"
  }
 },
 "nbformat": 4,
 "nbformat_minor": 2
}
